{
 "cells": [
  {
   "cell_type": "markdown",
   "metadata": {},
   "source": [
    "### Name: James Bird \n",
    "### Username: JXB1330\n",
    "### ID number: 2212304\n",
    "**please edit the above with your details to personlise this notebook**"
   ]
  },
  {
   "cell_type": "markdown",
   "metadata": {},
   "source": [
    "# Laboratory C part 2: Python Foundations - Data Handling"
   ]
  },
  {
   "cell_type": "markdown",
   "metadata": {},
   "source": [
    "# Python for Engineers\n",
    "(c) 2018-2021 Dr Neil Cooke, School of Engineering, Collaborative Teaching Laboratory, University of Birmingham"
   ]
  },
  {
   "cell_type": "markdown",
   "metadata": {},
   "source": [
    "# Introduction\n",
    "\n",
    "This lab consists of 11 short exercises that should take approximately 30-60 minutes to complete. It is advised that you complete these before you attend the supervised lab sessions.\n",
    "\n",
    "It introduces basic file and data handling. File handling is a key skill in Python and is one which you wil use often - data science is a 21st century skill. \n",
    "\n",
    "Prior to this lab you should have:\n",
    "\n",
    "* Completed previous labs\n",
    "* Reviewed the online support materials for Python provided on Canvas\n",
    "* Installed python on your personal computer and/or be familiar with its use.\n",
    "* Be familiar with other procedural programming languages i.e. C.\n",
    "\n",
    "You should upload this completed notebook to canvas when completed."
   ]
  },
  {
   "cell_type": "markdown",
   "metadata": {},
   "source": [
    "# Learning Outcomes\n",
    "\n",
    "This builds on your previous python knowledge you shouold have built up during the lab. I cover the following:\n",
    "\n",
    "> How to open and close files\n",
    "\n",
    "> Why it is important to closes files in Python\n",
    "\n",
    "> The different opening modes in Python\n",
    "\n",
    "> How to write to files\n",
    "\n",
    "> What the new line character is\n",
    "\n",
    "> Writing to files from lists\n",
    "\n",
    "> How to append to files\n",
    "\n",
    "> How to use the .split() function\n",
    "\n",
    "\n",
    "**tasks you are required to do are highlighted in bold throughout this notebook**\n"
   ]
  },
  {
   "cell_type": "markdown",
   "metadata": {},
   "source": [
    "# Tools to complete this lab\n",
    "\n",
    "* Use this Jupyter notebook and complete/save your work in it. This requires a computing platform capable of running Python 3.x and Jupyter notebook (anaconda is preferred). NOTE: pressing CTRL+Z on a highlighted cell will return it to its previous state. Use this to undo any changes you have made if you get lost and want to start again.\n",
    "\n",
    "* If for whatever reason you do not or cannot use Jupyter notebooks, then use the PDF document of this as a 'lab sheet' and type / copy the python code into a py file in the order presented in the sheet, using the IDLE python editor and suitable comments between sections e.g. #Exercise 1. This will require a computing platform with Python 3.x installed. (not recommended)"
   ]
  },
  {
   "cell_type": "markdown",
   "metadata": {},
   "source": [
    "# Exercise 1: Opening Files"
   ]
  },
  {
   "cell_type": "markdown",
   "metadata": {
    "editable": false
   },
   "source": [
    "Files are a built-in object in Python, and can be used to create, write, edit and delete various file types on a system (although deleting requires an additional module which is not covered in this lab). \n",
    "\n",
    "To open a file in Python, use the ```open``` function, which takes the following syntax:"
   ]
  },
  {
   "cell_type": "code",
   "execution_count": null,
   "metadata": {
    "editable": false
   },
   "outputs": [],
   "source": [
    "my_file = open('name_of_file.txt','w')"
   ]
  },
  {
   "cell_type": "markdown",
   "metadata": {},
   "source": [
    "If the file 'name_of_file.txt' does not exist in the current working directory (the folder the program is being run from), a file with this name will be created.\n",
    "\n",
    "**Using the syntax above, create a new variable which opens a text file called 'my_example_file'**"
   ]
  },
  {
   "cell_type": "code",
   "execution_count": null,
   "metadata": {},
   "outputs": [],
   "source": [
    "# create/open the file\n",
    "my_example_file = open('my_example_file.txt','w')"
   ]
  },
  {
   "cell_type": "markdown",
   "metadata": {},
   "source": [
    "# Exercise 2: Closing Files"
   ]
  },
  {
   "cell_type": "markdown",
   "metadata": {
    "editable": false
   },
   "source": [
    "In any programming language, it is important to close any files that you have opened.  This is true for many reasons but one of the most important reasons (on a large scale) is the impact on the performance. Opening many files without closing them will take up a lot of space in the RAM, which for small control systems may slow the system significantly.\n",
    "\n",
    "To close a file, use the following method:"
   ]
  },
  {
   "cell_type": "code",
   "execution_count": null,
   "metadata": {
    "editable": false
   },
   "outputs": [],
   "source": [
    "my_file.close()"
   ]
  },
  {
   "cell_type": "markdown",
   "metadata": {},
   "source": [
    "**Using the syntax above, close the file you created in exercise 1**"
   ]
  },
  {
   "cell_type": "code",
   "execution_count": null,
   "metadata": {},
   "outputs": [],
   "source": [
    "#Close the file\n",
    "my_example_file.close()"
   ]
  },
  {
   "cell_type": "markdown",
   "metadata": {},
   "source": [
    "# Exercise 3: Opening Modes"
   ]
  },
  {
   "cell_type": "markdown",
   "metadata": {},
   "source": [
    "Opening a file requires two arguemnts: a filename (which can be a variable), and an opening mode. The opening mode used in exercise 1 was 'w', which means 'write'. There are other such as 'r' which means 'read' and 'a' which means 'append'.\n",
    "\n",
    "**Using the try/except functions, write a program which tries to open 'test_file.txt' for reading. If the file does not exist, create the file using the ```write()``` commmand then close the file.**"
   ]
  },
  {
   "cell_type": "code",
   "execution_count": 15,
   "metadata": {},
   "outputs": [],
   "source": [
    "try:\n",
    "    open('test_file.txt','r')\n",
    "except:\n",
    "    open(\"test_file.txt\",'w')\n",
    "\n",
    "    test_file.close()\n",
    "    "
   ]
  },
  {
   "cell_type": "markdown",
   "metadata": {},
   "source": [
    "# Exercise 4: File Names as Variables"
   ]
  },
  {
   "cell_type": "markdown",
   "metadata": {},
   "source": [
    "As mentioned in the previous exercise, the file name in the first argument of ```open()``` can be a variable. \n",
    "\n",
    "**Modify the program above to accept user input for the file name, and store the string in a variable called 'filename'.**"
   ]
  },
  {
   "cell_type": "code",
   "execution_count": 26,
   "metadata": {},
   "outputs": [
    {
     "name": "stdout",
     "output_type": "stream",
     "text": [
      "input file name: \n",
      "asdfghjk\n"
     ]
    }
   ],
   "source": [
    "filename = input(\"input file name: \\n\")\n",
    "\n",
    "try:\n",
    "    open(filename,'r')\n",
    "except:\n",
    "    open(filename,'w')\n",
    "    filename.close()"
   ]
  },
  {
   "cell_type": "markdown",
   "metadata": {},
   "source": [
    "# Exercise 5: Writing to files"
   ]
  },
  {
   "cell_type": "markdown",
   "metadata": {},
   "source": [
    "Once a file is open, you can either write to it or read from it. To write to a file, open the file with mode 'w' for writing. From here there are two functions you can use: the ```write()``` function, and the ```writelines()``` function.\n",
    "\n",
    "**Run the cell below and to see how the write function behaves**"
   ]
  },
  {
   "cell_type": "code",
   "execution_count": 9,
   "metadata": {},
   "outputs": [
    {
     "name": "stdout",
     "output_type": "stream",
     "text": [
      "This is not a test This is not a test\n"
     ]
    }
   ],
   "source": [
    "# Write to file\n",
    "my_file = open('test_file.txt','w')\n",
    "my_file.write('This is not a test')\n",
    "my_file.write(' This is not a test')\n",
    "my_file.close()\n",
    "\n",
    "# Read from file\n",
    "my_file = open('test_file.txt','r')\n",
    "print(my_file.read())\n",
    "my_file.close()"
   ]
  },
  {
   "cell_type": "markdown",
   "metadata": {
    "editable": false
   },
   "source": [
    "You should have found that the ```write()``` function will continute to write where the previous ```write()``` function left off. However, if you change the lines to 'This is not a test' and run the program again, you will find that the previous lines have been overwritten.\n",
    "\n",
    "You should be careful when using the ```write()``` function in Python, as this will overwrite any previous data in the file."
   ]
  },
  {
   "cell_type": "markdown",
   "metadata": {},
   "source": [
    "**Extend the program from exercise 4 to write 'A new file has been created' in the except clause.**"
   ]
  },
  {
   "cell_type": "code",
   "execution_count": 23,
   "metadata": {},
   "outputs": [
    {
     "name": "stdout",
     "output_type": "stream",
     "text": [
      "file name: jmb12345\n",
      "A new file has been created\n"
     ]
    }
   ],
   "source": [
    "filename = input('file name: '  )\n",
    "\n",
    "try:\n",
    "    #open file\n",
    "    open(filename,'r')           \n",
    "except:\n",
    "    #create file\n",
    "    filename = open(filename,'w')\n",
    "    #write to file\n",
    "    filename.write(\"A new file has been created\")\n",
    "    #close file\n",
    "    filename.close()\n",
    "\n",
    "#Read the file\n",
    "file = open(filename,'r')\n",
    "print(file.read())\n",
    "file.close()"
   ]
  },
  {
   "cell_type": "markdown",
   "metadata": {},
   "source": [
    "# Exercise 6: The New Line Character"
   ]
  },
  {
   "cell_type": "markdown",
   "metadata": {},
   "source": [
    "Using multiple ```write()``` statements is not ideal, but may sometimes be necessary when writing a program. Should this be the case, you may also want to separate each string with a new line. To do this write the new line character (\\n) in the string. Wherever you write the new line character is where the break in the string will be.\n",
    "\n",
    "**Run the cell below to see how newlink in file writing works**"
   ]
  },
  {
   "cell_type": "code",
   "execution_count": 4,
   "metadata": {},
   "outputs": [
    {
     "name": "stdout",
     "output_type": "stream",
     "text": [
      "This is a test\n",
      "This \n",
      "is a\n",
      " test\n"
     ]
    }
   ],
   "source": [
    "# Write to file\n",
    "my_file = open('test_file.txt','w')\n",
    "my_file.write('This is a test\\n')\n",
    "my_file.write('This \\nis a\\n test')\n",
    "my_file.close()\n",
    "\n",
    "# Read from file\n",
    "my_file = open('test_file.txt','r')\n",
    "print(my_file.read())\n",
    "my_file.close()"
   ]
  },
  {
   "cell_type": "markdown",
   "metadata": {},
   "source": [
    "**Extending on the previous program again, write 'This is a new line' and ensure it is written on a new line using the new line character. Note, the new line character can be in either ```write()``` command.**"
   ]
  },
  {
   "cell_type": "code",
   "execution_count": 19,
   "metadata": {},
   "outputs": [
    {
     "name": "stdout",
     "output_type": "stream",
     "text": [
      "file name: newstuff\n",
      "A new file has been created\n",
      "this is a new line\n"
     ]
    }
   ],
   "source": [
    "filename = input('file name: '  )\n",
    "\n",
    "try:\n",
    "    #open file\n",
    "    open(filename,'r')           \n",
    "except:\n",
    "    #create file\n",
    "    filename = open(filename,'w')\n",
    "    #write to file\n",
    "    filename.write(\"A new file has been created\")\n",
    "    filename.write(\"\\nthis is a new line\")\n",
    "    #close file\n",
    "    filename.close()\n",
    "\n",
    "#Read the file\n",
    "file = open(filename,'r')\n",
    "print(file.read())\n",
    "file.close()"
   ]
  },
  {
   "cell_type": "markdown",
   "metadata": {},
   "source": [
    "# Exercise 7: Writing Multiple Lines using a List"
   ]
  },
  {
   "cell_type": "markdown",
   "metadata": {
    "editable": false
   },
   "source": [
    "If you have a list storing multiple strings, the strings can be written to a file simultaneously using the ```writelines()``` function. The syntax for this is:"
   ]
  },
  {
   "cell_type": "code",
   "execution_count": 19,
   "metadata": {},
   "outputs": [],
   "source": [
    "file = open('test_file.txt','w')\n",
    "\n",
    "my_list = ['this','is','a','list','of','words']\n",
    "file.writelines(my_list)\n",
    "\n",
    "file.close()"
   ]
  },
  {
   "cell_type": "markdown",
   "metadata": {},
   "source": [
    "Note: this function does NOT automatically add a new line character after writing each element\n",
    "\n",
    "**Write a program which adds the array x_coords to the file graph_data.txt**"
   ]
  },
  {
   "cell_type": "code",
   "execution_count": 18,
   "metadata": {},
   "outputs": [
    {
     "name": "stdout",
     "output_type": "stream",
     "text": [
      "[1.5, 1.9, 2.4, 2.7, 3.8, 3.9, 4.2, 4.6]\n"
     ]
    }
   ],
   "source": [
    "x_coords = [1.5,1.9,2.4,2.7,3.8,3.9,4.2,4.6]\n",
    "myfile = open('graph_text.txt','w')\n",
    "\n",
    "# Write coordinates to file\n",
    "myfile.writelines(str(x_coords))\n",
    "\n",
    "# Close the file\n",
    "myfile.close()\n",
    "\n",
    "#Read the file\n",
    "file = open('graph_text.txt','r')\n",
    "print(file.read())\n",
    "file.close()"
   ]
  },
  {
   "cell_type": "markdown",
   "metadata": {},
   "source": [
    "# Exercise 8:  Adding a New Line Character to each Element"
   ]
  },
  {
   "cell_type": "markdown",
   "metadata": {},
   "source": [
    "To write a list to a file where each element occupies its own line, you can use two methods: iteration or list comprehension."
   ]
  },
  {
   "cell_type": "code",
   "execution_count": 22,
   "metadata": {},
   "outputs": [
    {
     "name": "stdout",
     "output_type": "stream",
     "text": [
      "each\n",
      "word\n",
      "is\n",
      "on\n",
      "a\n",
      "new\n",
      "line\n",
      "\n"
     ]
    }
   ],
   "source": [
    "# Write to file\n",
    "file = open('list_elements.txt','w')\n",
    "my_list = ['each','word','is','on','a','new','line']\n",
    "\n",
    "\n",
    "for word in my_list:               \n",
    "    file.write(word+'\\n')\n",
    "\n",
    "\n",
    "file.close()\n",
    "\n",
    "# Read from file\n",
    "file = open('list_elements.txt','r')\n",
    "print(file.read())\n",
    "file.close()"
   ]
  },
  {
   "cell_type": "markdown",
   "metadata": {},
   "source": [
    "Rewrite your exercise 7 program to that ensure each x coordinate is written on a new line:"
   ]
  },
  {
   "cell_type": "code",
   "execution_count": 30,
   "metadata": {},
   "outputs": [
    {
     "name": "stdout",
     "output_type": "stream",
     "text": [
      "1.5\n",
      "1.9\n",
      "2.4\n",
      "2.7\n",
      "3.8\n",
      "3.9\n",
      "4.2\n",
      "4.6\n",
      "\n"
     ]
    }
   ],
   "source": [
    "x_coords = [1.5,1.9,2.4,2.7,3.8,3.9,4.2,4.6]\n",
    "myfile = open('graph_text.txt','w')\n",
    "\n",
    "# Write coordinates to file\n",
    "for coor in x_coords:\n",
    "    myfile.writelines((str(coor))+'\\n')\n",
    "\n",
    "# Close the file\n",
    "myfile.close()\n",
    "\n",
    "#Read the file\n",
    "file = open('graph_text.txt','r')\n",
    "print(file.read())\n",
    "file.close()"
   ]
  },
  {
   "cell_type": "markdown",
   "metadata": {},
   "source": [
    "# Exercise 9: Reading Files"
   ]
  },
  {
   "cell_type": "markdown",
   "metadata": {},
   "source": [
    "Opening a file in mode 'r' will open the file for reading. If the file does not exist, an error will be returned. Similarly to writing, files can be read in two ways. These are using the ```read()``` and ```readlines()``` functions. The ```read()``` function will return the entire file as a string. \n",
    "\n",
    "**Run the cell below to see how this prints the file to the console:**"
   ]
  },
  {
   "cell_type": "code",
   "execution_count": 31,
   "metadata": {},
   "outputs": [
    {
     "name": "stdout",
     "output_type": "stream",
     "text": [
      "each\n",
      "word\n",
      "is\n",
      "on\n",
      "a\n",
      "new\n",
      "line\n",
      "\n"
     ]
    }
   ],
   "source": [
    "file = open('list_elements.txt','r')\n",
    "\n",
    "print(file.read())\n",
    "\n",
    "file.close()"
   ]
  },
  {
   "cell_type": "markdown",
   "metadata": {},
   "source": [
    "As you may have guessed, the ```readlines()``` function works similarly to the ```writelines()``` function. Instead of writing from a list, the data is read to a list. Each element is separated by the new line character, which is included at the end of the element."
   ]
  },
  {
   "cell_type": "code",
   "execution_count": 32,
   "metadata": {},
   "outputs": [
    {
     "name": "stdout",
     "output_type": "stream",
     "text": [
      "['each\\n', 'word\\n', 'is\\n', 'on\\n', 'a\\n', 'new\\n', 'line\\n']\n"
     ]
    }
   ],
   "source": [
    "file = open('list_elements.txt','r')\n",
    "\n",
    "print(file.readlines())\n",
    "\n",
    "file.close()"
   ]
  },
  {
   "cell_type": "markdown",
   "metadata": {},
   "source": [
    "**Modify your function again to read the lines to a list:**"
   ]
  },
  {
   "cell_type": "code",
   "execution_count": 33,
   "metadata": {},
   "outputs": [
    {
     "name": "stdout",
     "output_type": "stream",
     "text": [
      "['1.5\\n', '1.9\\n', '2.4\\n', '2.7\\n', '3.8\\n', '3.9\\n', '4.2\\n', '4.6\\n']\n"
     ]
    }
   ],
   "source": [
    "x_coords = [1.5,1.9,2.4,2.7,3.8,3.9,4.2,4.6]\n",
    "myfile = open('graph_text.txt','w')\n",
    "\n",
    "# Write coordinates to file\n",
    "for coor in x_coords:\n",
    "    myfile.writelines((str(coor))+'\\n')\n",
    "\n",
    "# Close the file\n",
    "myfile.close()\n",
    "\n",
    "#Read the file\n",
    "file = open('graph_text.txt','r')\n",
    "print(file.readlines())\n",
    "file.close()"
   ]
  },
  {
   "cell_type": "markdown",
   "metadata": {},
   "source": [
    "# Exercise 10: Appending to Files"
   ]
  },
  {
   "cell_type": "markdown",
   "metadata": {},
   "source": [
    "The final mode for opening a file is 'a' which means 'append'. This is similar to write, in that if the file does not exist, a file with the exact name will be created. However, if the file does exist, all data will be written at the end of the file and the current data is not overwritten. \n",
    "\n",
    "To append to a file, open the file in 'append' mode and use the ```write()``` command as normal. \n",
    "\n",
    "**Append the list below to the file 'graph_data.txt' :**"
   ]
  },
  {
   "cell_type": "code",
   "execution_count": 1,
   "metadata": {},
   "outputs": [
    {
     "name": "stdout",
     "output_type": "stream",
     "text": [
      "1.5\n",
      "1.9\n",
      "2.4\n",
      "2.7\n",
      "3.8\n",
      "3.9\n",
      "4.2\n",
      "4.6\n",
      "[6.7, 7.2, 7.4, 8.5, 8.9, 9.8]\n",
      "[6.7, 7.2, 7.4, 8.5, 8.9, 9.8]\n",
      "[6.7, 7.2, 7.4, 8.5, 8.9, 9.8]\n",
      "6.7\n",
      "7.2\n",
      "7.4\n",
      "8.5\n",
      "8.9\n",
      "9.8\n",
      "6.7\n",
      "7.2\n",
      "7.4\n",
      "8.5\n",
      "8.9\n",
      "9.8\n",
      "6.7\n",
      "7.2\n",
      "7.4\n",
      "8.5\n",
      "8.9\n",
      "9.8\n",
      "6.7\n",
      "7.2\n",
      "7.4\n",
      "8.5\n",
      "8.9\n",
      "9.8\n",
      "\n"
     ]
    }
   ],
   "source": [
    "extra_data = [6.7,7.2,7.4,8.5,8.9,9.8]\n",
    "\n",
    "# append to graph_data.txt\n",
    "app = open('graph_text.txt','a')\n",
    "# ensure each element is written on a new line\n",
    "for coord in extra_data:\n",
    "    app.writelines((str(coord))+'\\n')\n",
    "\n",
    "file = open('graph_text.txt','r')\n",
    "print(file.read())\n",
    "file.close()"
   ]
  },
  {
   "cell_type": "markdown",
   "metadata": {},
   "source": [
    "# Exercise 11: The .split() Function"
   ]
  },
  {
   "cell_type": "markdown",
   "metadata": {
    "editable": false
   },
   "source": [
    "This can be used to split a string of text about any character. If there are multiple characters which match the argument, the string will be split about each instance of that character in the string. The character to be split about is removed from the string.\n",
    "\n",
    "For example:"
   ]
  },
  {
   "cell_type": "code",
   "execution_count": 2,
   "metadata": {},
   "outputs": [
    {
     "name": "stdout",
     "output_type": "stream",
     "text": [
      "['ab', 'defg']\n"
     ]
    }
   ],
   "source": [
    "my_string = 'abcdefg'\n",
    "print(my_string.split('c'))"
   ]
  },
  {
   "cell_type": "markdown",
   "metadata": {
    "editable": false
   },
   "source": [
    "The function will return a list with two elements, containing the substring before the split character and the substring after."
   ]
  },
  {
   "cell_type": "code",
   "execution_count": 3,
   "metadata": {},
   "outputs": [
    {
     "name": "stdout",
     "output_type": "stream",
     "text": [
      "['a', 'b', 'c', 'd', 'e']\n"
     ]
    }
   ],
   "source": [
    "new_string = 'asbscsdse'\n",
    "\n",
    "split_string = new_string.split('s')\n",
    "    \n",
    "print(split_string)"
   ]
  },
  {
   "cell_type": "markdown",
   "metadata": {},
   "source": [
    "**Write a function which takes in a string, asks which character to split the string about and the prints the resulting list**"
   ]
  },
  {
   "cell_type": "code",
   "execution_count": 3,
   "metadata": {},
   "outputs": [
    {
     "name": "stdout",
     "output_type": "stream",
     "text": [
      "Input a String:\n",
      "abcdefghijklmnopqrstuvwxyz\n",
      "input a charcter from your string to split at:\n",
      "k\n",
      "['abcdefghij', 'lmnopqrstuvwxyz']\n"
     ]
    }
   ],
   "source": [
    "# def function:\n",
    "def splitting():\n",
    "    string = input(str(\"Input a String:\\n\"))\n",
    "    charect = input(str(\"input a charcter from your string to split at:\\n\"))\n",
    "    # split string\n",
    "    split_string = string.split(charect)\n",
    "    # print list\n",
    "    print(split_string)\n",
    "# call function\n",
    "splitting()\n"
   ]
  },
  {
   "cell_type": "markdown",
   "metadata": {},
   "source": [
    "# End of Lab\n",
    "\n",
    "This is the end of your introduction to file handling. \n",
    "\n",
    "Please note this is not a complete reference but is designed to introduce you to concepts and common misconceptions of the python language.\n",
    "\n",
    "Please consult the online reference materials to find out more (Canvas has links).\n",
    "\n",
    "Jupyter notebooks are not just for coding; you can write in them too in markup language. So note in the next cell what what you learned/found difficult or easy in the space below."
   ]
  },
  {
   "cell_type": "markdown",
   "metadata": {},
   "source": [
    "**please reflect on your learning below**\n",
    "\n",
    "### I rate this lab (out of 5): 5\n",
    "\n",
    "### What I find easy: appending , reading and writing to and from files\n",
    "\n",
    "\n",
    "### What I find difficult:\n",
    "\n",
    "\n",
    "### What I should improve:\n"
   ]
  },
  {
   "cell_type": "markdown",
   "metadata": {},
   "source": [
    "# Next steps\n",
    "\n",
    "* **Upload this completed .pynb notebook to canvas**\n",
    "* **Progress to the next lab**\n"
   ]
  },
  {
   "cell_type": "markdown",
   "metadata": {},
   "source": [
    "# Python for Engineers\n",
    "(c) 2018-2021 Dr Neil Cooke, School of Engineering, Collaborative Teaching Laboratory, University of Birmingham"
   ]
  },
  {
   "cell_type": "code",
   "execution_count": null,
   "metadata": {},
   "outputs": [],
   "source": []
  }
 ],
 "metadata": {
  "kernelspec": {
   "display_name": "Python 3 (ipykernel)",
   "language": "python",
   "name": "python3"
  },
  "language_info": {
   "codemirror_mode": {
    "name": "ipython",
    "version": 3
   },
   "file_extension": ".py",
   "mimetype": "text/x-python",
   "name": "python",
   "nbconvert_exporter": "python",
   "pygments_lexer": "ipython3",
   "version": "3.9.7"
  }
 },
 "nbformat": 4,
 "nbformat_minor": 2
}
