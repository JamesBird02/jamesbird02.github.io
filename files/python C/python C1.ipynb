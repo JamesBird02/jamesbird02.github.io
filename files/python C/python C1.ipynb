{
 "cells": [
  {
   "cell_type": "markdown",
   "metadata": {},
   "source": [
    "### Name: James Bird\n",
    "### Username: JXB1330\n",
    "### ID number: 2212304\n",
    "**please edit the above with your details to personlise this notebook**"
   ]
  },
  {
   "cell_type": "markdown",
   "metadata": {},
   "source": [
    "# Laboratory C part 1: Python Foundations: List Comprehensions\n",
    "\n"
   ]
  },
  {
   "cell_type": "markdown",
   "metadata": {},
   "source": [
    "# Python for Engineers\n",
    "(c) 2018-2021 Dr Neil Cooke, School of Engineering, Collaborative Teaching Laboratory, University of Birmingham"
   ]
  },
  {
   "cell_type": "markdown",
   "metadata": {},
   "source": [
    "# Introduction\n",
    "This is foundation work. You are advised to complete this before the lab.\n",
    "\n",
    "It consists of 2 exercises with multiple parts that should take approximately 30-60 minutes to complete. It is advised that you complete these before you attend the supervised lab sessions.\n",
    "\n",
    "It introduces basic list comprehensions. \n",
    "\n",
    "Prior to this lab you should have:\n",
    "\n",
    "* completed the previous labs\n",
    "* Reviewed the online support materials for Python provided on Canvas\n",
    "* Installed python on your personal computer and/or be familiar with its use.\n",
    "* Be familiar with other procedural programming languages i.e. C.\n",
    "\n",
    "You should upload this completed notebook to canvas.\n"
   ]
  },
  {
   "cell_type": "markdown",
   "metadata": {},
   "source": [
    "## Learning Outcomes\n",
    "\n",
    "This builds on your previous python knowledge you should have built up during the lab. I cover the following:\n",
    "\n",
    "> Different ways to create lists\n",
    "\n",
    "> Why list comprehension is important in Python\n",
    "\n",
    "> How to convert iterative lines of code into list comprehension\n",
    "\n",
    "**You should complete the pre-lab on you own, before attempting the lab where you should work in pairs (using individual notebooks)**\n",
    "\n",
    "**tasks you are required to do are highlighted in bold throughout this notebook**"
   ]
  },
  {
   "cell_type": "markdown",
   "metadata": {},
   "source": [
    "## Tools to complete this lab\n",
    "\n",
    "* Use this Jupyter notebook and complete/save your work in it. This requires a computing platform capable of running Python 3.x and Jupyter notebook (preferred). NOTE: pressing CTRL+Z on a highlighted cell will return it to its previous state. Use this to undo any changes you have made if you get lost and want to start again.\n",
    "\n",
    "* If for whatever reason you do not or cannot use Jupyter notebooks, then use the PDF document of this as a 'lab sheet' and type / copy the python code into a py file in the order presented in the sheet, using the IDLE python editor and suitable comments between sections e.g. #Exercise 1. This will require a computing platform with Python 3.x installed. (not recommended)"
   ]
  },
  {
   "cell_type": "markdown",
   "metadata": {},
   "source": [
    "# Creating lists\n",
    "Lists can be created using for-loops. For example, if you wanted to make a list of the numbers from 0 to 9, you would create the list like this:"
   ]
  },
  {
   "cell_type": "code",
   "execution_count": 17,
   "metadata": {},
   "outputs": [
    {
     "name": "stdout",
     "output_type": "stream",
     "text": [
      "[0, 1, 2, 3, 4, 5, 6, 7, 8, 9]\n"
     ]
    }
   ],
   "source": [
    "l = []\n",
    "for i in range(10):\n",
    "    l.append(i)\n",
    "print(l)"
   ]
  },
  {
   "cell_type": "markdown",
   "metadata": {
    "editable": false
   },
   "source": [
    "You can create all kinds of lists this way:"
   ]
  },
  {
   "cell_type": "code",
   "execution_count": 18,
   "metadata": {},
   "outputs": [
    {
     "name": "stdout",
     "output_type": "stream",
     "text": [
      "['h', 'e', 'l', 'l', 'o']\n"
     ]
    }
   ],
   "source": [
    "l = []\n",
    "s = 'hello'\n",
    "for char in s:\n",
    "    l.append(char)\n",
    "print(l)"
   ]
  },
  {
   "cell_type": "code",
   "execution_count": 19,
   "metadata": {},
   "outputs": [
    {
     "data": {
      "text/plain": [
       "[(0, 0),\n",
       " (0, 1),\n",
       " (0, 2),\n",
       " (0, 3),\n",
       " (0, 4),\n",
       " (1, 0),\n",
       " (1, 1),\n",
       " (1, 2),\n",
       " (1, 3),\n",
       " (1, 4),\n",
       " (2, 0),\n",
       " (2, 1),\n",
       " (2, 2),\n",
       " (2, 3),\n",
       " (2, 4),\n",
       " (3, 0),\n",
       " (3, 1),\n",
       " (3, 2),\n",
       " (3, 3),\n",
       " (3, 4),\n",
       " (4, 0),\n",
       " (4, 1),\n",
       " (4, 2),\n",
       " (4, 3),\n",
       " (4, 4)]"
      ]
     },
     "execution_count": 19,
     "metadata": {},
     "output_type": "execute_result"
    }
   ],
   "source": [
    "l = []\n",
    "for i in range(5):\n",
    "    for j in range(5):\n",
    "        l.append((i,j))\n",
    "l"
   ]
  },
  {
   "cell_type": "code",
   "execution_count": 20,
   "metadata": {},
   "outputs": [
    {
     "data": {
      "text/plain": [
       "[1, 4, 9, 16, 25]"
      ]
     },
     "execution_count": 20,
     "metadata": {},
     "output_type": "execute_result"
    }
   ],
   "source": [
    "l = []\n",
    "m = [1,2,3,4,5]\n",
    "for i in range(len(m)):\n",
    "    l.append(m[i]**2)\n",
    "l"
   ]
  },
  {
   "cell_type": "markdown",
   "metadata": {},
   "source": [
    "# List Comprehension\n",
    "\n",
    "You can create all these lists using list comprehension. This is a concise method of creating lists instead of using loops in the conventional way.  \n",
    "\n",
    "List comprehension consists of a set of square brackets in which the list will be created. The first part of the content in the square bracket is the expression that you want contained in the list, i.e. a number of a certain kind, or an element of another list. It can be anything you want. The expression is then followed by one or more for-loops. It is with these for-loops that the list comprehension will decide how many expressions will be in the list."
   ]
  },
  {
   "cell_type": "markdown",
   "metadata": {
    "editable": false
   },
   "source": [
    "Take the first example in this notebook:\n",
    "```\n",
    "l = []\n",
    "for i in range(10):\n",
    "    l.append(i)\n",
    "print(l)\n",
    "```\n",
    "\n",
    "This can be done in one line using list comprehension:"
   ]
  },
  {
   "cell_type": "code",
   "execution_count": 21,
   "metadata": {
    "scrolled": false
   },
   "outputs": [
    {
     "name": "stdout",
     "output_type": "stream",
     "text": [
      "[0, 1, 2, 3, 4, 5, 6, 7, 8, 9]\n"
     ]
    }
   ],
   "source": [
    "l = [i for i in range(10)]\n",
    "print(l)"
   ]
  },
  {
   "cell_type": "markdown",
   "metadata": {
    "editable": false
   },
   "source": [
    "The second example would be done using list comprehension like this:"
   ]
  },
  {
   "cell_type": "code",
   "execution_count": 22,
   "metadata": {},
   "outputs": [
    {
     "name": "stdout",
     "output_type": "stream",
     "text": [
      "['h', 'e', 'l', 'l', 'o']\n"
     ]
    }
   ],
   "source": [
    "s = 'hello'\n",
    "l = [char for char in s]\n",
    "print(l)"
   ]
  },
  {
   "cell_type": "markdown",
   "metadata": {
    "editable": false
   },
   "source": [
    "Or even more concisely like this:"
   ]
  },
  {
   "cell_type": "code",
   "execution_count": 23,
   "metadata": {},
   "outputs": [
    {
     "name": "stdout",
     "output_type": "stream",
     "text": [
      "['h', 'e', 'l', 'l', 'o']\n"
     ]
    }
   ],
   "source": [
    "l = [char for char in 'hello']\n",
    "print(l)"
   ]
  },
  {
   "cell_type": "markdown",
   "metadata": {
    "editable": false
   },
   "source": [
    "The third example would be done like this:"
   ]
  },
  {
   "cell_type": "code",
   "execution_count": 24,
   "metadata": {},
   "outputs": [
    {
     "data": {
      "text/plain": [
       "[(0, 0),\n",
       " (0, 1),\n",
       " (0, 2),\n",
       " (0, 3),\n",
       " (0, 4),\n",
       " (1, 0),\n",
       " (1, 1),\n",
       " (1, 2),\n",
       " (1, 3),\n",
       " (1, 4),\n",
       " (2, 0),\n",
       " (2, 1),\n",
       " (2, 2),\n",
       " (2, 3),\n",
       " (2, 4),\n",
       " (3, 0),\n",
       " (3, 1),\n",
       " (3, 2),\n",
       " (3, 3),\n",
       " (3, 4),\n",
       " (4, 0),\n",
       " (4, 1),\n",
       " (4, 2),\n",
       " (4, 3),\n",
       " (4, 4)]"
      ]
     },
     "execution_count": 24,
     "metadata": {},
     "output_type": "execute_result"
    }
   ],
   "source": [
    "l = [(i,j) for i in range(5) for j in range(5)]\n",
    "l"
   ]
  },
  {
   "cell_type": "markdown",
   "metadata": {},
   "source": [
    "# Exercise 1\n",
    "**The following fragments of code create lists using for-loops. for each, run the first version using a foor loop and attempt to replicate the output in the second version using a list comprehensions.**"
   ]
  },
  {
   "cell_type": "markdown",
   "metadata": {},
   "source": [
    "## worked example - empty list"
   ]
  },
  {
   "cell_type": "code",
   "execution_count": 25,
   "metadata": {},
   "outputs": [
    {
     "name": "stdout",
     "output_type": "stream",
     "text": [
      "[[], [], [], [], [], [], [], [], []]\n"
     ]
    }
   ],
   "source": [
    "l = []\n",
    "for i in range(9):\n",
    "    l.append([])\n",
    "print(l)"
   ]
  },
  {
   "cell_type": "code",
   "execution_count": 14,
   "metadata": {},
   "outputs": [
    {
     "name": "stdout",
     "output_type": "stream",
     "text": [
      "[[], [], [], [], [], [], [], [], []]\n"
     ]
    }
   ],
   "source": [
    "# list comprehension version\n",
    "l = [[] for i in range(9)]\n",
    "print(l)"
   ]
  },
  {
   "cell_type": "markdown",
   "metadata": {},
   "source": [
    "## array of integers "
   ]
  },
  {
   "cell_type": "code",
   "execution_count": 33,
   "metadata": {},
   "outputs": [
    {
     "name": "stdout",
     "output_type": "stream",
     "text": [
      "[1, 2, 3, 4, 5, 6, 7, 8, 9, 10, 11, 12, 13, 14, 15]\n"
     ]
    }
   ],
   "source": [
    "l = []\n",
    "data = [[1,2,3,4,5],[6,7,8,9,10],[11,12,13,14,15]]\n",
    "for i in range(len(data)):\n",
    "    for j in range(len(data[i])):\n",
    "        l.append(data[i][j])\n",
    "print(l)"
   ]
  },
  {
   "cell_type": "code",
   "execution_count": 35,
   "metadata": {},
   "outputs": [
    {
     "name": "stdout",
     "output_type": "stream",
     "text": [
      "[1, 2, 3, 4, 5, 6, 7, 8, 9, 10, 11, 12, 13, 14, 15]\n"
     ]
    }
   ],
   "source": [
    "# Your list comprehension version here\n",
    "data = [[1,2,3,4,5],[6,7,8,9,10],[11,12,13,14,15]]\n",
    "\n",
    "#if you get stuck try modifying this commented doe below replacing all instances of \n",
    "# X with something more meaningful\n",
    "\n",
    "l = [data[i][j] for i in range(len(data)) for j in range(len(data[i]))]\n",
    "print(l)"
   ]
  },
  {
   "cell_type": "markdown",
   "metadata": {},
   "source": [
    "## array of boolean values"
   ]
  },
  {
   "cell_type": "code",
   "execution_count": 2,
   "metadata": {},
   "outputs": [
    {
     "name": "stdout",
     "output_type": "stream",
     "text": [
      "[[True, True, True, True], [True, True, True, True]]\n"
     ]
    }
   ],
   "source": [
    "l = []\n",
    "t = [['a','b','c','d'],['aa','bb','cc','dd']]\n",
    "for i in t:\n",
    "    l1 = []\n",
    "    for j in i:\n",
    "        l1.append(True)\n",
    "    l.append(l1)\n",
    "print(l)"
   ]
  },
  {
   "cell_type": "code",
   "execution_count": 40,
   "metadata": {},
   "outputs": [
    {
     "name": "stdout",
     "output_type": "stream",
     "text": [
      "[[True, True, True, True], [True, True, True, True]]\n"
     ]
    }
   ],
   "source": [
    "t = [['a','b','c','d'],['aa','bb','cc','dd']]\n",
    "l = [ [True for j in i] for i in t]\n",
    "print(l)"
   ]
  },
  {
   "cell_type": "markdown",
   "metadata": {},
   "source": [
    "## list of arrays"
   ]
  },
  {
   "cell_type": "code",
   "execution_count": 4,
   "metadata": {},
   "outputs": [
    {
     "name": "stdout",
     "output_type": "stream",
     "text": [
      "[(0, 0, 0), (0, 0, 1), (0, 1, 0), (0, 1, 1), (1, 0, 0), (1, 0, 1), (1, 1, 0), (1, 1, 1)]\n"
     ]
    }
   ],
   "source": [
    "l = []\n",
    "b = [0,1]\n",
    "for i in range(len(b)):\n",
    "    for j in range(len(b)):\n",
    "        for k in range(len(b)):\n",
    "            l.append((b[i],b[j],b[k]))\n",
    "print(l)"
   ]
  },
  {
   "cell_type": "code",
   "execution_count": 128,
   "metadata": {
    "scrolled": true
   },
   "outputs": [
    {
     "name": "stdout",
     "output_type": "stream",
     "text": [
      "[(0, 0, 0), (0, 0, 1), (0, 1, 0), (0, 1, 1), (1, 0, 0), (1, 0, 1), (1, 1, 0), (1, 1, 1)]\n"
     ]
    }
   ],
   "source": [
    "b = [0,1]\n",
    "l = [(i,j,k) for i in range(len(b)) for j in range(len(b)) for k in range(len(b))]\n",
    "print(l)\n"
   ]
  },
  {
   "cell_type": "markdown",
   "metadata": {},
   "source": [
    "# Conditionals in List Comprehensions\n",
    "\n",
    "Sometimes the elements that are in a list have been placed in there by the effect of a conditional. \n",
    "\n",
    "For example, imagine you have a dataset and want to extract info from the set based on a conditional (e.g. the even numbers):"
   ]
  },
  {
   "cell_type": "code",
   "execution_count": 2,
   "metadata": {},
   "outputs": [
    {
     "name": "stdout",
     "output_type": "stream",
     "text": [
      "[40, 2, 30, 2, 2, 50, 6, 6, 6, 386, 2]\n"
     ]
    }
   ],
   "source": [
    "data = [1,9,3,40,3,63,2,5,30,2,59,2,50,6,5,293,6,2039,3,5,6,386,2,59]\n",
    "l = []\n",
    "for d in data:\n",
    "    if d%2 == 0:\n",
    "        l.append(d)\n",
    "print(l)"
   ]
  },
  {
   "cell_type": "markdown",
   "metadata": {
    "editable": false
   },
   "source": [
    "This can be completed in list comprehension:"
   ]
  },
  {
   "cell_type": "code",
   "execution_count": 16,
   "metadata": {
    "scrolled": true
   },
   "outputs": [
    {
     "name": "stdout",
     "output_type": "stream",
     "text": [
      "[40, 2, 30, 2, 2, 50, 6, 6, 6, 386, 2]\n"
     ]
    }
   ],
   "source": [
    "data = [1,9,3,40,3,63,2,5,30,2,59,2,50,6,5,293,6,2039,3,5,6,386,2,59]\n",
    "l = [d for d in data if d%2==0]\n",
    "print(l)"
   ]
  },
  {
   "cell_type": "markdown",
   "metadata": {
    "editable": false
   },
   "source": [
    "You can also incorporate the else statement into list comprehension:"
   ]
  },
  {
   "cell_type": "code",
   "execution_count": 41,
   "metadata": {},
   "outputs": [
    {
     "name": "stdout",
     "output_type": "stream",
     "text": [
      "['Odd', 'Odd', 'Odd', 'Even', 'Odd', 'Odd', 'Even', 'Odd', 'Even', 'Even', 'Odd', 'Even', 'Even', 'Even', 'Odd', 'Odd', 'Even', 'Odd', 'Odd', 'Odd', 'Even', 'Even', 'Even', 'Odd']\n"
     ]
    }
   ],
   "source": [
    "data = [1,9,3,40,3,63,2,5,30,2,59,2,50,6,5,293,6,2039,3,5,6,386,2,59]\n",
    "l = []\n",
    "for d in data:\n",
    "    if d%2==0:\n",
    "        l.append(\"Even\")\n",
    "    else:\n",
    "        l.append(\"Odd\")\n",
    "print(l)"
   ]
  },
  {
   "cell_type": "markdown",
   "metadata": {
    "editable": false
   },
   "source": [
    "In list comprehension:"
   ]
  },
  {
   "cell_type": "code",
   "execution_count": 42,
   "metadata": {},
   "outputs": [
    {
     "name": "stdout",
     "output_type": "stream",
     "text": [
      "['Odd', 'Odd', 'Odd', 'Even', 'Odd', 'Odd', 'Even', 'Odd', 'Even', 'Even', 'Odd', 'Even', 'Even', 'Even', 'Odd', 'Odd', 'Even', 'Odd', 'Odd', 'Odd', 'Even', 'Even', 'Even', 'Odd']\n"
     ]
    }
   ],
   "source": [
    "data = [1,9,3,40,3,63,2,5,30,2,59,2,50,6,5,293,6,2039,3,5,6,386,2,59]\n",
    "l = [\"Even\" if d%2==0 else \"Odd\" for d in data]\n",
    "print(l)"
   ]
  },
  {
   "cell_type": "markdown",
   "metadata": {
    "editable": false
   },
   "source": [
    "List comprehension also works with multiple conditionals:"
   ]
  },
  {
   "cell_type": "code",
   "execution_count": 43,
   "metadata": {},
   "outputs": [
    {
     "name": "stdout",
     "output_type": "stream",
     "text": [
      "['Mammal', 'Reptile', 'Fish', 'Fish', 'Reptile', 'Mammal', 'Mammal', 'Reptile', 'Mammal', 'Fish', 'Reptile', 'Fish', 'Mammal']\n"
     ]
    }
   ],
   "source": [
    "data = [\"Dog\",\"Snake\",\"Salmon\",\"Salmon\",\"Snake\",\"Dog\",\"Dog\",\"Snake\",\"Dog\",\"Salmon\",\"Snake\",\"Salmon\",\"Dog\"]\n",
    "l = []\n",
    "for d in data:\n",
    "    if d == \"Dog\":\n",
    "        l.append(\"Mammal\")\n",
    "    elif d == \"Snake\":\n",
    "        l.append(\"Reptile\")\n",
    "    else:\n",
    "        l.append(\"Fish\")\n",
    "print(l)"
   ]
  },
  {
   "cell_type": "markdown",
   "metadata": {
    "editable": false
   },
   "source": [
    "In list comprehension:"
   ]
  },
  {
   "cell_type": "code",
   "execution_count": 44,
   "metadata": {},
   "outputs": [
    {
     "name": "stdout",
     "output_type": "stream",
     "text": [
      "['Mammal', 'Reptile', 'Fish', 'Fish', 'Reptile', 'Mammal', 'Mammal', 'Reptile', 'Mammal', 'Fish', 'Reptile', 'Fish', 'Mammal']\n"
     ]
    }
   ],
   "source": [
    "data = [\"Dog\",\"Snake\",\"Salmon\",\"Salmon\",\"Snake\",\"Dog\",\"Dog\",\"Snake\",\"Dog\",\"Salmon\",\"Snake\",\"Salmon\",\"Dog\"]\n",
    "l = [\"Mammal\" if d == \"Dog\" else \"Reptile\" if d == \"Snake\" else \"Fish\" for d in data]\n",
    "print(l)"
   ]
  },
  {
   "cell_type": "markdown",
   "metadata": {},
   "source": [
    "# Exercise 2\n",
    "**Change the following pieces of code to include list comprehensions**"
   ]
  },
  {
   "cell_type": "markdown",
   "metadata": {},
   "source": [
    "## 1 worked example: list of integers"
   ]
  },
  {
   "cell_type": "code",
   "execution_count": 129,
   "metadata": {},
   "outputs": [
    {
     "name": "stdout",
     "output_type": "stream",
     "text": [
      "[1, 9, 25, 49, 81]\n"
     ]
    }
   ],
   "source": [
    "numbers = [1,2,3,4,5,6,7,8,9]\n",
    "l = []\n",
    "for n in numbers:\n",
    "    if n%2 == 1:\n",
    "        l.append(n**2)\n",
    "print(l)"
   ]
  },
  {
   "cell_type": "code",
   "execution_count": 130,
   "metadata": {},
   "outputs": [
    {
     "name": "stdout",
     "output_type": "stream",
     "text": [
      "[1, 9, 25, 49, 81]\n"
     ]
    }
   ],
   "source": [
    "numbers = [1,2,3,4,5,6,7,8,9]\n",
    "l = [n**2 for n in numbers if n%2==1]\n",
    "print(l)"
   ]
  },
  {
   "cell_type": "markdown",
   "metadata": {},
   "source": [
    "## 2 lists of booleans"
   ]
  },
  {
   "cell_type": "code",
   "execution_count": 131,
   "metadata": {},
   "outputs": [
    {
     "name": "stdout",
     "output_type": "stream",
     "text": [
      "[[True, False, False, True, False], [False, True, False, False, True], [False, False, True, True, True], [True, True, True, True, False], [False, True, False, True, False]]\n"
     ]
    }
   ],
   "source": [
    "data = [[1,0,0,1,0], [0,1,0,0,1], [0,0,1,1,1], [1,1,1,1,0], [0,1,0,1,0]]\n",
    "l = []\n",
    "for i in data:\n",
    "    t = []\n",
    "    for j in i:\n",
    "        if j == 1:\n",
    "            t.append(True)\n",
    "        else:\n",
    "            t.append(False)\n",
    "    l.append(t)\n",
    "print(l)"
   ]
  },
  {
   "cell_type": "code",
   "execution_count": 132,
   "metadata": {},
   "outputs": [
    {
     "name": "stdout",
     "output_type": "stream",
     "text": [
      "[[True, False, False, True, False], [False, True, False, False, True], [False, False, True, True, True], [True, True, True, True, False], [False, True, False, True, False]]\n"
     ]
    }
   ],
   "source": [
    "data = [[1,0,0,1,0], [0,1,0,0,1], [0,0,1,1,1], [1,1,1,1,0], [0,1,0,1,0]]\n",
    "l = [[True if i==1 else False for i in j] for j in data]\n",
    "print(l)\n"
   ]
  },
  {
   "cell_type": "markdown",
   "metadata": {},
   "source": [
    "## 3 lists of floats"
   ]
  },
  {
   "cell_type": "code",
   "execution_count": 133,
   "metadata": {},
   "outputs": [
    {
     "name": "stdout",
     "output_type": "stream",
     "text": [
      "[0.47326883396233066, 0.051681036741643926, 0.17578208798051653, 0.15959916686948772]\n"
     ]
    }
   ],
   "source": [
    "import random\n",
    "data = [random.uniform(0,1) for i in range(10)]\n",
    "l = []\n",
    "for i in data:\n",
    "    if i < 0.5:\n",
    "        l.append(i)\n",
    "print(l)"
   ]
  },
  {
   "cell_type": "code",
   "execution_count": 134,
   "metadata": {},
   "outputs": [
    {
     "name": "stdout",
     "output_type": "stream",
     "text": [
      "[0.16923849808953229, 0.2702241685760596, 0.15645472945943806, 0.07227137229371006]\n"
     ]
    }
   ],
   "source": [
    "# Your code here\n",
    "import random\n",
    "data = [random.uniform(0,1) for i in range(10)]\n",
    "l = [i for i in data if i < 0.5]\n",
    "print(l)"
   ]
  },
  {
   "cell_type": "markdown",
   "metadata": {},
   "source": [
    "## 4 List of String"
   ]
  },
  {
   "cell_type": "code",
   "execution_count": 135,
   "metadata": {},
   "outputs": [
    {
     "name": "stdout",
     "output_type": "stream",
     "text": [
      "['0', '1', '2', 'NA', 'NA', 'NA', 'NA', 'NA', 'NA', 'NA']\n"
     ]
    }
   ],
   "source": [
    "l = []\n",
    "for i in range(10):\n",
    "    if i < 3:\n",
    "        l.append(str(i))\n",
    "    else:\n",
    "        l.append('NA')\n",
    "print(l)"
   ]
  },
  {
   "cell_type": "code",
   "execution_count": 136,
   "metadata": {},
   "outputs": [
    {
     "name": "stdout",
     "output_type": "stream",
     "text": [
      "['0', '1', '2', 'NA', 'NA', 'NA', 'NA', 'NA', 'NA', 'NA']\n"
     ]
    }
   ],
   "source": [
    "l = [str(i) if i<3 else 'NA' for i in range(10)] \n",
    "print(l)"
   ]
  },
  {
   "cell_type": "markdown",
   "metadata": {},
   "source": [
    "# Exercise 3 Help - Debug!\n",
    "\n",
    "Normally, the traceback in error will allow you to debug code quite easy, but sometimes you may want to step through code and test variable values.\n",
    "\n",
    "Try the following methods for debugging\n"
   ]
  },
  {
   "cell_type": "code",
   "execution_count": 137,
   "metadata": {},
   "outputs": [
    {
     "data": {
      "text/plain": [
       "3"
      ]
     },
     "execution_count": 137,
     "metadata": {},
     "output_type": "execute_result"
    }
   ],
   "source": [
    "#easy method\n",
    "#the following code will not work since c is not defined...\n",
    "#run this once, correct and try again\n",
    "def bad_code(c,b):\n",
    "    \"\"\"This code is bad\"\"\"\n",
    "    return b+c\n",
    "\n",
    "bad_code(1,2)"
   ]
  },
  {
   "cell_type": "code",
   "execution_count": 138,
   "metadata": {},
   "outputs": [
    {
     "name": "stdout",
     "output_type": "stream",
     "text": [
      "value of a = 1\n",
      "value of b = 2\n"
     ]
    },
    {
     "data": {
      "text/plain": [
       "3"
      ]
     },
     "execution_count": 138,
     "metadata": {},
     "output_type": "execute_result"
    }
   ],
   "source": [
    "# stepping through - adding debug code\n",
    "# sometimes it is tempting to put in print statements everywhere to see what is going wrong\n",
    "# this can get messy though\n",
    "def bad_code(a,b):\n",
    "    \"\"\"This code is bad and messy\"\"\"\n",
    "    print(\"value of a =\",a) #debug code\n",
    "    print(\"value of b =\",b) #debug code\n",
    "    return b+a\n",
    "\n",
    "bad_code(1,2)\n",
    "\n"
   ]
  },
  {
   "cell_type": "code",
   "execution_count": 139,
   "metadata": {},
   "outputs": [
    {
     "name": "stdout",
     "output_type": "stream",
     "text": [
      "> \u001b[0;32m/var/folders/6q/475tbh2d161gpk8131qq47pm0000gn/T/ipykernel_81633/255285075.py\u001b[0m(2)\u001b[0;36m<module>\u001b[0;34m()\u001b[0m\n",
      "\u001b[0;32m      1 \u001b[0;31m\u001b[0mb\u001b[0m \u001b[0;34m=\u001b[0m \u001b[0;34m[\u001b[0m\u001b[0;36m0\u001b[0m\u001b[0;34m,\u001b[0m\u001b[0;36m1\u001b[0m\u001b[0;34m]\u001b[0m\u001b[0;34m\u001b[0m\u001b[0;34m\u001b[0m\u001b[0m\n",
      "\u001b[0m\u001b[0;32m----> 2 \u001b[0;31m\u001b[0ml\u001b[0m \u001b[0;34m=\u001b[0m \u001b[0;34m[\u001b[0m\u001b[0;34m(\u001b[0m\u001b[0mi\u001b[0m\u001b[0;34m,\u001b[0m\u001b[0mj\u001b[0m\u001b[0;34m,\u001b[0m\u001b[0mk\u001b[0m\u001b[0;34m)\u001b[0m \u001b[0;32mfor\u001b[0m \u001b[0mi\u001b[0m \u001b[0;32min\u001b[0m \u001b[0mj\u001b[0m\u001b[0;34m]\u001b[0m\u001b[0;34m\u001b[0m\u001b[0;34m\u001b[0m\u001b[0m\n",
      "\u001b[0m\u001b[0;32m      3 \u001b[0;31m\u001b[0mprint\u001b[0m\u001b[0;34m(\u001b[0m\u001b[0ml\u001b[0m\u001b[0;34m)\u001b[0m\u001b[0;34m\u001b[0m\u001b[0;34m\u001b[0m\u001b[0m\n",
      "\u001b[0m\n",
      "ipdb> \n",
      "*** NameError: name 'lk' is not defined\n",
      "ipdb> \n",
      "*** NameError: name 'lk' is not defined\n",
      "ipdb> \n",
      "*** NameError: name 'lk' is not defined\n",
      "--KeyboardInterrupt--\n",
      "\n",
      "KeyboardInterrupt: Interrupted by user\n"
     ]
    },
    {
     "data": {
      "text/plain": [
       "3"
      ]
     },
     "execution_count": 139,
     "metadata": {},
     "output_type": "execute_result"
    }
   ],
   "source": [
    "# a better way to debug is the magic command %debug - you first define your code...\n",
    "def bad_code(a,b):\n",
    "    \"\"\"This code is bad\"\"\"\n",
    "    %debug\n",
    "    return b+a\n",
    "bad_code(1,2)\n"
   ]
  },
  {
   "cell_type": "code",
   "execution_count": 140,
   "metadata": {},
   "outputs": [
    {
     "name": "stdout",
     "output_type": "stream",
     "text": [
      "> \u001b[0;32m/Library/Frameworks/Python.framework/Versions/3.9/lib/python3.9/site-packages/ipykernel/kernelbase.py\u001b[0m(1052)\u001b[0;36m_input_request\u001b[0;34m()\u001b[0m\n",
      "\u001b[0;32m   1050 \u001b[0;31m            \u001b[0;32mexcept\u001b[0m \u001b[0mKeyboardInterrupt\u001b[0m\u001b[0;34m:\u001b[0m\u001b[0;34m\u001b[0m\u001b[0;34m\u001b[0m\u001b[0m\n",
      "\u001b[0m\u001b[0;32m   1051 \u001b[0;31m                \u001b[0;31m# re-raise KeyboardInterrupt, to truncate traceback\u001b[0m\u001b[0;34m\u001b[0m\u001b[0;34m\u001b[0m\u001b[0m\n",
      "\u001b[0m\u001b[0;32m-> 1052 \u001b[0;31m                \u001b[0;32mraise\u001b[0m \u001b[0mKeyboardInterrupt\u001b[0m\u001b[0;34m(\u001b[0m\u001b[0;34m\"Interrupted by user\"\u001b[0m\u001b[0;34m)\u001b[0m \u001b[0;32mfrom\u001b[0m \u001b[0;32mNone\u001b[0m\u001b[0;34m\u001b[0m\u001b[0;34m\u001b[0m\u001b[0m\n",
      "\u001b[0m\u001b[0;32m   1053 \u001b[0;31m            \u001b[0;32mexcept\u001b[0m \u001b[0mException\u001b[0m\u001b[0;34m:\u001b[0m\u001b[0;34m\u001b[0m\u001b[0;34m\u001b[0m\u001b[0m\n",
      "\u001b[0m\u001b[0;32m   1054 \u001b[0;31m                \u001b[0mself\u001b[0m\u001b[0;34m.\u001b[0m\u001b[0mlog\u001b[0m\u001b[0;34m.\u001b[0m\u001b[0mwarning\u001b[0m\u001b[0;34m(\u001b[0m\u001b[0;34m\"Invalid Message:\"\u001b[0m\u001b[0;34m,\u001b[0m \u001b[0mexc_info\u001b[0m\u001b[0;34m=\u001b[0m\u001b[0;32mTrue\u001b[0m\u001b[0;34m)\u001b[0m\u001b[0;34m\u001b[0m\u001b[0;34m\u001b[0m\u001b[0m\n",
      "\u001b[0m\n",
      "ipdb> h\n",
      "\n",
      "Documented commands (type help <topic>):\n",
      "========================================\n",
      "EOF    commands   enable    ll        pp       s                until \n",
      "a      condition  exit      longlist  psource  skip_hidden      up    \n",
      "alias  cont       h         n         q        skip_predicates  w     \n",
      "args   context    help      next      quit     source           whatis\n",
      "b      continue   ignore    p         r        step             where \n",
      "break  d          interact  pdef      restart  tbreak         \n",
      "bt     debug      j         pdoc      return   u              \n",
      "c      disable    jump      pfile     retval   unalias        \n",
      "cl     display    l         pinfo     run      undisplay      \n",
      "clear  down       list      pinfo2    rv       unt            \n",
      "\n",
      "Miscellaneous help topics:\n",
      "==========================\n",
      "exec  pdb\n",
      "\n",
      "ipdb> \n",
      "\n",
      "Documented commands (type help <topic>):\n",
      "========================================\n",
      "EOF    commands   enable    ll        pp       s                until \n",
      "a      condition  exit      longlist  psource  skip_hidden      up    \n",
      "alias  cont       h         n         q        skip_predicates  w     \n",
      "args   context    help      next      quit     source           whatis\n",
      "b      continue   ignore    p         r        step             where \n",
      "break  d          interact  pdef      restart  tbreak         \n",
      "bt     debug      j         pdoc      return   u              \n",
      "c      disable    jump      pfile     retval   unalias        \n",
      "cl     display    l         pinfo     run      undisplay      \n",
      "clear  down       list      pinfo2    rv       unt            \n",
      "\n",
      "Miscellaneous help topics:\n",
      "==========================\n",
      "exec  pdb\n",
      "\n",
      "--KeyboardInterrupt--\n",
      "\n",
      "KeyboardInterrupt: Interrupted by user\n"
     ]
    }
   ],
   "source": [
    "# .. and in the next cell us the magic command %debug\n",
    "# you will be able to interactively debug your code..\n",
    "# experiment with using the commands in this sequence as the ipdb prompt\n",
    "#up\n",
    "#print(a)\n",
    " #down\n",
    "# print(a)\n",
    "# print(b)\n",
    "# print(c)\n",
    "# quit\n",
    "\n",
    "%debug"
   ]
  },
  {
   "cell_type": "markdown",
   "metadata": {},
   "source": [
    "# End of Lab\n",
    "\n",
    "This is the end of your introduction list comprehensions. \n",
    "\n",
    "Please note this is not a complete reference but is designed to introduce you to concepts and common misconceptions of the python language, and hopefully some good practice such as variable naming and exhaustive commenting of code.\n",
    "\n",
    "Please consult the online reference materials to find out more (Canvas has links).\n",
    "\n",
    "Jupyter notebooks are not just for coding; you can write in them too in markup language. So note in the next cell what what you learned/found difficult or easy in the space below.\n",
    "\n"
   ]
  },
  {
   "cell_type": "markdown",
   "metadata": {},
   "source": [
    "**please reflect on your learning below**\n",
    "\n",
    "\n",
    "### I rate this lab (out of 5): 4\n",
    "\n",
    "### What I find easy: debugging and some list comprehensions.\n",
    "\n",
    "\n",
    "### What I find difficult:\n",
    "\n",
    "\n",
    "### What I should improve: list comprehensions.\n"
   ]
  },
  {
   "cell_type": "markdown",
   "metadata": {},
   "source": [
    "# Next steps\n",
    "\n",
    "* **Upload this completed .pynb notebook to canvas**\n",
    "* **Progress to the next lab**"
   ]
  },
  {
   "cell_type": "markdown",
   "metadata": {},
   "source": [
    "# Python for Engineers\n",
    "(c) 2018,2021 Dr Neil Cooke, School of Engineering, Collaborative Teaching Laboratory, University of Birmingham"
   ]
  },
  {
   "cell_type": "code",
   "execution_count": null,
   "metadata": {},
   "outputs": [],
   "source": []
  }
 ],
 "metadata": {
  "kernelspec": {
   "display_name": "Python 3 (ipykernel)",
   "language": "python",
   "name": "python3"
  },
  "language_info": {
   "codemirror_mode": {
    "name": "ipython",
    "version": 3
   },
   "file_extension": ".py",
   "mimetype": "text/x-python",
   "name": "python",
   "nbconvert_exporter": "python",
   "pygments_lexer": "ipython3",
   "version": "3.9.7"
  }
 },
 "nbformat": 4,
 "nbformat_minor": 2
}
