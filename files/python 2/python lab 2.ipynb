{
 "cells": [
  {
   "cell_type": "markdown",
   "metadata": {},
   "source": [
    "### Name: James Bird\n",
    "### Username: JXB1330\n",
    "### ID number: 2212304\n",
    "**please edit the above with your details to personlise this notebook**"
   ]
  },
  {
   "cell_type": "markdown",
   "metadata": {},
   "source": [
    "# Laboratory 2: Modelling a Full-Wave Rectifier (part 2)\n",
    "## Implementation"
   ]
  },
  {
   "cell_type": "markdown",
   "metadata": {},
   "source": [
    "# Python for Engineers\n",
    "(c) 2018-2021 Dr Neil Cooke, School of Engineering, Collaborative Teaching Laboratory, University of Birmingham"
   ]
  },
  {
   "cell_type": "markdown",
   "metadata": {},
   "source": [
    "# Introduction\n",
    "\n",
    "* Rectifiers are used to convert a sinusoidal AC voltage into a smooth DC output. \n",
    "* In reality, the output voltage is not perfectly smooth, but has a distinctive ‘ripple’ pattern. \n",
    "* The rectifier circuit features a capacitor, which is charged during the first quarter cycle (until the AC voltage reaches a maximum) then discharges during the region of falling AC voltage to keep the output voltage constant. \n",
    "* The output voltage of the rectifier is not constant and can be modelled by a Fourier series. \n",
    "\n",
    "This lab will have you modelling the output of a rectifier which is operating on a near-zero impedance source (such as the domestic AC mains supply). \n",
    "\n",
    "Each exercise is designed to guide you through developing a large program, function by function.\n",
    "\n",
    "The Python Rectifier lab is split into two parts:\n",
    "\n",
    "> Part 1 builds on the basic concepts covered in the pre-lab 1 for the rectifier design.\n",
    "\n",
    "> Part 2 completes the implementation bring the python you have learned together.\n",
    "\n",
    "You should each complete your individual notebooks and save them for uploading to Canvas.\n",
    "\n",
    "The graphs below show the results you should achieve by the end of this lab. \n",
    "The functions you have built will have a sine wave, a Fourier series, and the approximated ripple voltage for a circuit."
   ]
  },
  {
   "cell_type": "markdown",
   "metadata": {
    "editable": false
   },
   "source": [
    "<img src=\"rectifier_image.JPG\">"
   ]
  },
  {
   "cell_type": "markdown",
   "metadata": {
    "editable": false
   },
   "source": [
    "###### NOTE:\n",
    "Pressing CTRL+Z on a highlighted cell (showing a green bar on the left hand side) will return the cell to a previous state. Use this to undo any changes you have made if you are lost and need to start again."
   ]
  },
  {
   "cell_type": "markdown",
   "metadata": {},
   "source": [
    "## Learning Outcomes\n",
    "\n",
    "\n",
    "This continues the gentle introduction to the Python language and its syntax assuming that you have previous programming knowledge. you will experience that ...\n",
    "\n",
    "> Functions are created using the 'def' keyword, and can be written with and without arguments\n",
    "\n",
    "> Keyword arguments can be used to give a function default values to use unless instructed otherwise\n",
    "\n",
    "> To change particular arguments in a function, the parameters can be assigned values in the function call\n",
    "\n",
    "> Local variables only exist inside functions and so cannot be changed outside a function\n",
    "\n",
    "> Local variables with the same name as global variables take priority unless the 'global' keyword is used\n",
    "\n",
    "> Return statements can return multiple values simultaneously, but they must be separate by a comma\n",
    "\n",
    "> There are six mathematical comparison operators: ==, !=, >, <, >= and <=\n",
    "\n",
    "> Comparison operators return a 1 or a 0\n",
    "\n",
    "> The 'in' keyword can be used for multiple data types\n",
    "\n",
    "> 'if' statements are a basic form of control flow and will allow certain pieces of code to be execute if a condition is met\n",
    "\n",
    "> 'elif' statements are used to check alternate conditions if the first first condition of an 'if' statement is not met\n",
    "\n",
    "> 'else' statements can be used to handle exception cases where no specified condition is met\n",
    "\n",
    "> 'if' statements can be 'nested' to check multiple conditions in sequence\n",
    "\n",
    "> 'while loops' are a simple way to repeat sections of code while a certain condition is true\n",
    "\n",
    "> Infinite loops can occur when the terminating condition is not met and should be avoided\n",
    "\n",
    "> The 'range' function can be used to generate a set of numbers to be iterated over in a 'for loop'\n",
    "\n",
    "> The range function does not include the upper limit\n",
    "\n",
    "> For loops can loop through different data types such as lists, dictionaries, strings, tuples etc\n",
    "\n",
    "> Particular elements of a data structure can be indexed using square brackets []\n",
    "\n",
    "\n",
    "**You should complete earlier labs before attempting this lab**\n",
    "\n",
    "**tasks you are required to do are highlighted in bold throughout this notebook**"
   ]
  },
  {
   "cell_type": "markdown",
   "metadata": {},
   "source": [
    "## Tools to complete this lab\n",
    "\n",
    "* Use this Jupyter notebook and complete/save your work in it. This requires a computing platform capable of running Python 3.x and Jupyter notebook (Anacond distribution preferred at the time of writing). NOTE: pressing CTRL+Z on a highlighted cell will return it to its previous state. Use this to undo any changes you have made if you get lost and want to start again.\n",
    "\n",
    "* If for whatever reason you do not or cannot use Jupyter notebooks, then use the PDF document of this as a 'lab sheet' and type / copy the python code into a py file in the order presented in the sheet, using the IDLE python editor and suitable comments between sections e.g. #Exercise 1. This will require a computing platform with Python 3.x installed. (not recommended)"
   ]
  },
  {
   "cell_type": "markdown",
   "metadata": {},
   "source": [
    "## Ripple Voltage Approximation\n",
    "\n",
    "Recall, we are aiming towards modelling a rectifier to compute the following voltage signals (see part 1 for more details)\n",
    "<img src=\"rectifier_image.JPG\">"
   ]
  },
  {
   "cell_type": "markdown",
   "metadata": {},
   "source": [
    "# Exercise 1: A Basic Function"
   ]
  },
  {
   "cell_type": "markdown",
   "metadata": {},
   "source": [
    "The maximum ripple that can be tolerated for a DC circuit is given by the equation below. \n",
    "\n",
    "\n",
    "\n",
    "The definition should include two arguments, the peak voltage and the minimum voltage.\n",
    "Once the value for the ripple voltage is found, round the result to two decimal places and return the value.\n",
    "Hint: use the round() function. This takes two arguments, the number/variable to round, and the number of decimal places to round to.\n",
    "\n",
    "**Implement the equation as a python function to calculate the maximum acceptable ripple voltage.**"
   ]
  },
  {
   "cell_type": "markdown",
   "metadata": {
    "editable": false
   },
   "source": [
    "$$ ripple_{max} = \\frac{voltage_{peak} - voltage_{min}}{voltage_{peak}} $$"
   ]
  },
  {
   "cell_type": "code",
   "execution_count": 3,
   "metadata": {},
   "outputs": [
    {
     "name": "stdout",
     "output_type": "stream",
     "text": [
      "The ripple tolerated is: 0.6\n"
     ]
    }
   ],
   "source": [
    "def get_ripple_tolerated(peak_voltage, minimum_voltage):\n",
    "    '''returns the maximum accepted ripple voltage'''\n",
    "    ripple_max = (peak_voltage - minimum_voltage) / peak_voltage\n",
    "    ripple_max = round(ripple_max, 2)\n",
    "    # Return statement\n",
    "    return ripple_max\n",
    "\n",
    "print(\"The ripple tolerated is: {}\".format(get_ripple_tolerated(10,4)))"
   ]
  },
  {
   "cell_type": "code",
   "execution_count": 4,
   "metadata": {},
   "outputs": [
    {
     "name": "stderr",
     "output_type": "stream",
     "text": [
      "test (__main__.MyTest) ... ok\n",
      "\n",
      "----------------------------------------------------------------------\n",
      "Ran 1 test in 0.001s\n",
      "\n",
      "OK\n"
     ]
    }
   ],
   "source": [
    "#Extra\n",
    "#you can use the test code below to test your function for multiple values\n",
    "#this saves you from having multiple print statements as above\n",
    "import unittest\n",
    "class MyTest(unittest.TestCase):\n",
    "    def test(self):\n",
    "        self.assertEqual(get_ripple_tolerated(10,4),0.6)\n",
    "        self.assertEqual(get_ripple_tolerated(12,8),0.33)#duplicate this line with different values for multiple testing\n",
    "res = unittest.main(argv=[''], verbosity=3, exit=False)\n",
    "assert len(res.result.failures) == 0"
   ]
  },
  {
   "cell_type": "markdown",
   "metadata": {},
   "source": [
    "# Exercise 2: Calling Functions within Functions"
   ]
  },
  {
   "cell_type": "markdown",
   "metadata": {},
   "source": [
    "**Write a function which calls upon get_ripple_tolerated and compare implementations with your partner** \n",
    "\n",
    "* This function should take in the same two arguments and pass them through to get_ripple_tolerated in the function call. \n",
    "* The value returned should be stored in a variable called maximum_ripple. Compare maximum_ripple to the constant MAX_RIP. \n",
    "* If the result is greater, return False. If the result is equal to MAX_RIP, or if the ripple is less than MAX_RIP return True."
   ]
  },
  {
   "cell_type": "code",
   "execution_count": 5,
   "metadata": {},
   "outputs": [],
   "source": [
    "MAX_RIP = 0.2\n",
    "\n",
    "def compare_ripple(peak_voltage, minimum_voltage):  \n",
    "    maximum_ripple = get_ripple_tolerated(peak_voltage, minimum_voltage)\n",
    "    \n",
    "    if maximum_ripple <= MAX_RIP:\n",
    "        return True\n",
    "    else:\n",
    "        return False\n"
   ]
  },
  {
   "cell_type": "code",
   "execution_count": 6,
   "metadata": {},
   "outputs": [
    {
     "name": "stderr",
     "output_type": "stream",
     "text": [
      "test (__main__.MyTest) ... ok\n",
      "\n",
      "----------------------------------------------------------------------\n",
      "Ran 1 test in 0.001s\n",
      "\n",
      "OK\n"
     ]
    }
   ],
   "source": [
    "#you can use the test code below to test your function for multiple values\n",
    "#this saves you from having multiple print statements as above\n",
    "import unittest\n",
    "class MyTest(unittest.TestCase):\n",
    "    def test(self):\n",
    "        self.assertEqual(compare_ripple(8,4),False) #duplicate this line with different values for multiple testing\n",
    "        self.assertEqual(compare_ripple(6,1),False)\n",
    "        self.assertEqual(compare_ripple(5,1),False)\n",
    "        self.assertEqual(compare_ripple(3,4),True)\n",
    "        self.assertEqual(compare_ripple(2,2),True)\n",
    "        self.assertEqual(compare_ripple(2,1),False)\n",
    "        self.assertEqual(compare_ripple(5,3),False)\n",
    "res = unittest.main(argv=[''], verbosity=3, exit=False)\n",
    "assert len(res.result.failures) == 0"
   ]
  },
  {
   "cell_type": "markdown",
   "metadata": {},
   "source": [
    "# Exercise 3: Using Functions to Write a Small Program"
   ]
  },
  {
   "cell_type": "markdown",
   "metadata": {},
   "source": [
    "The last two functions check whether the difference between a peak and minimum voltage is small enough for the ripple generated to be tolerable by a circuit.\n",
    "\n",
    "Next, you need to continuously test the minimum voltage against the ripple voltage, and increase it by small incremements until the greatest allowable difference is found.\n",
    "\n",
    "**write a program to find the greatest allowable minimum voltage**\n",
    " \n",
    "These steps may help you to build up the program:\n",
    "\n",
    "* Set a global variable voltage_min equal to 3.\n",
    "* Call the function compare_ripple with the arguments 5 and voltage_min, store the result in a variable, 'state'.\n",
    "* Create a while loop which runs for as long as the value of 'state' is False.\n",
    "* Increment the value of voltage_min by 0.5 after each iteration.\n",
    "* Print the value of voltage_min once the loop has terminated."
   ]
  },
  {
   "cell_type": "code",
   "execution_count": 7,
   "metadata": {},
   "outputs": [
    {
     "name": "stdout",
     "output_type": "stream",
     "text": [
      "4.0\n"
     ]
    }
   ],
   "source": [
    "MAX_RIP = 0.2\n",
    "\n",
    "def get_ripple_tolerated(peak_voltage, minimum_voltage):\n",
    "    ripple_max = (peak_voltage - minimum_voltage) / peak_voltage\n",
    "    ripple_max = round(ripple_max, 2)\n",
    "    return ripple_max\n",
    "\n",
    "def compare_ripple(peak_voltage, minimum_voltage):  \n",
    "    maximum_ripple = get_ripple_tolerated(peak_voltage, minimum_voltage)\n",
    "    \n",
    "    if maximum_ripple <= MAX_RIP:\n",
    "        return True\n",
    "    else:\n",
    "        return False\n",
    "\n",
    "voltage_min = 3\n",
    "state = compare_ripple(5,voltage_min)\n",
    "while state == False:\n",
    "    voltage_min += 0.5\n",
    "    state = compare_ripple(5,voltage_min)\n",
    "print(voltage_min)\n",
    "    \n"
   ]
  },
  {
   "cell_type": "markdown",
   "metadata": {},
   "source": [
    "# Exercise 4: Importing Libraries"
   ]
  },
  {
   "cell_type": "markdown",
   "metadata": {},
   "source": [
    "Most python code relies on importing libraries for functions using the 'import <library>' function or 'from <library> import <function>' statement if you do not wish to import the entire function library.\n",
    "\n",
    "The first step in a rectifier to take the modulus of the sinusoidal function, so that the signal only exists in the postive y axis. This can be approximated by a Fourier series.\n",
    "\n",
    "The modified voltage is made up of a constant DC voltage and a fluctuating AC voltage. The DC voltage is constant and can be calculated using the equation below.\n",
    "\n",
    "**Create a function which takes in the peak AC voltage as a parameter, and returns the answer using a return statement. Round the final result to 2 decimal places. You may find the math library useful to import a value for pi.**"
   ]
  },
  {
   "cell_type": "markdown",
   "metadata": {
    "editable": false
   },
   "source": [
    "$$ voltage_{DC} = \\frac{2\\cdot voltage_{AC peak}}{\\pi } $$"
   ]
  },
  {
   "cell_type": "code",
   "execution_count": 8,
   "metadata": {},
   "outputs": [],
   "source": [
    "import math\n",
    "\n",
    "def get_dc_voltage(peak_ac_voltage):\n",
    "    voltage_dc = (2*peak_ac_voltage) / math.pi\n",
    "    voltage_dc = round(voltage_dc, 2)\n",
    "    # Return statement\n",
    "    return voltage_dc\n"
   ]
  },
  {
   "cell_type": "code",
   "execution_count": 9,
   "metadata": {},
   "outputs": [
    {
     "name": "stderr",
     "output_type": "stream",
     "text": [
      "test (__main__.MyTest) ... ok\n",
      "\n",
      "----------------------------------------------------------------------\n",
      "Ran 1 test in 0.001s\n",
      "\n",
      "OK\n"
     ]
    }
   ],
   "source": [
    "#run this code to test your function above\n",
    "import unittest\n",
    "class MyTest(unittest.TestCase):\n",
    "    def test(self):\n",
    "        self.assertEqual(get_dc_voltage(5.5),3.5) #duplicate this line with different values for multiple testing\n",
    "        self.assertEqual(get_dc_voltage(4),2.55)\n",
    "        self.assertEqual(get_dc_voltage(3),1.91)\n",
    "        self.assertEqual(get_dc_voltage(2),1.27)\n",
    "        self.assertEqual(get_dc_voltage(1),0.64)\n",
    "        self.assertEqual(get_dc_voltage(0),0.0)\n",
    "res = unittest.main(argv=[''], verbosity=3, exit=False)\n",
    "assert len(res.result.failures) == 0"
   ]
  },
  {
   "cell_type": "markdown",
   "metadata": {},
   "source": [
    "# Exercise 5: The round() Function"
   ]
  },
  {
   "cell_type": "markdown",
   "metadata": {},
   "source": [
    "The rms (root mean square) voltage gives an average value of the function. This can be calculated from the DC voltage, as shown in the relationship below.\n",
    "\n",
    "**Create a function which takes in the peak AC voltage as a keyword argument with a default value of 5V. \n",
    "The function should return the final result rounded to 2 decimal places. \n",
    "You may find the math library useful.**\n",
    "\n",
    "\n"
   ]
  },
  {
   "cell_type": "markdown",
   "metadata": {
    "editable": false
   },
   "source": [
    "$$ voltage_{rms} = \\frac{2\\cdot voltage_{AC peak}}{\\pi } \\cdot \\sqrt{\\frac{\\pi ^{2}}{8}-1} = voltage_{DC} \\cdot \\sqrt{\\frac{\\pi ^{2}}{8}-1} $$"
   ]
  },
  {
   "cell_type": "code",
   "execution_count": 10,
   "metadata": {},
   "outputs": [],
   "source": [
    "import math \n",
    "\n",
    "def get_rms_voltage(peak_ac_volt):\n",
    "    # Calculation\n",
    "    voltage_rms = ((2*peak_ac_volt) / math.pi) * math.sqrt((math.pi**2 / 8) - 1)\n",
    "    # Round\n",
    "    voltage_rms = round(voltage_rms,2)\n",
    "    # Return statement\n",
    "    return voltage_rms\n",
    "    \n"
   ]
  },
  {
   "cell_type": "code",
   "execution_count": 11,
   "metadata": {},
   "outputs": [
    {
     "name": "stderr",
     "output_type": "stream",
     "text": [
      "test (__main__.MyTest) ... ok\n",
      "\n",
      "----------------------------------------------------------------------\n",
      "Ran 1 test in 0.001s\n",
      "\n",
      "OK\n"
     ]
    }
   ],
   "source": [
    "#run this code to test your function above\n",
    "import unittest\n",
    "class MyTest(unittest.TestCase):\n",
    "    def test(self):\n",
    "        self.assertEqual(get_rms_voltage(5),1.54) #duplicate this line with different values for multiple testing\n",
    "        self.assertEqual(get_rms_voltage(4),1.23)\n",
    "        self.assertEqual(get_rms_voltage(3),0.92)\n",
    "        self.assertEqual(get_rms_voltage(2),0.62)\n",
    "        self.assertEqual(get_rms_voltage(1),0.31)\n",
    "        self.assertEqual(get_rms_voltage(0),0.0)\n",
    "res = unittest.main(argv=[''], verbosity=3, exit=False)\n",
    "assert len(res.result.failures) == 0"
   ]
  },
  {
   "cell_type": "markdown",
   "metadata": {},
   "source": [
    "# Exercise 6: Getting User Input"
   ]
  },
  {
   "cell_type": "markdown",
   "metadata": {
    "editable": false
   },
   "source": [
    "The full Fourier series for the modulus of a sine curve is shown below."
   ]
  },
  {
   "cell_type": "markdown",
   "metadata": {
    "editable": false
   },
   "source": [
    "$$ voltage(t) = \\frac{2\\cdot voltage_{AC peak}}{\\pi } + \\frac{4\\cdot voltage_{AC peak}}{\\pi } \\cdot \\sum_{n=1}^{\\infty}\\tfrac{cos(n\\pi )}{1-4n^{2}}\\cdot cos(2n\\omega t)$$"
   ]
  },
  {
   "cell_type": "markdown",
   "metadata": {},
   "source": [
    "This function takes will run from n=1 to n=N, with higher values of N giving more accurate approximations. \n",
    "\n",
    "**Write a program that asks the user to input the number of approximations to use. Also get input for the frequency of the AC source, a value for time to evaluate the curve at, and the amplitude of the AC voltage.**\n",
    "\n",
    "Hint: remember to cast each variable appropriately"
   ]
  },
  {
   "cell_type": "code",
   "execution_count": 12,
   "metadata": {},
   "outputs": [],
   "source": [
    "def get_ripple_voltage():\n",
    "    num_of_terms = int(input(\"please input the number of terms:\"))\n",
    "    freq = int(input(\"please input your frequency: \"))\n",
    "    time = int(input(\"please input your time: \"))\n",
    "    voltage_ac_peak = int(input(\"please input the peak AC voltage: \"))"
   ]
  },
  {
   "cell_type": "code",
   "execution_count": null,
   "metadata": {},
   "outputs": [],
   "source": []
  },
  {
   "cell_type": "markdown",
   "metadata": {},
   "source": [
    "# Exercise 7: The try/except Statements"
   ]
  },
  {
   "cell_type": "markdown",
   "metadata": {},
   "source": [
    "Your program so far insists that the user enters a value for time. If they do, then eventually we will write the code to return the value of the function at  *t = time*. But we can also write some code so that if the user does not enter a time, but rather presses 'enter' instead, the program will return a graph of the function for a general time *t*, and not a specific value of the function at *t*.\n",
    "\n",
    "To do this we need to try to cast the input as an integer (or float). \n",
    "\n",
    "If this doesnt work, we will assume the user pressed 'enter'. \n",
    "\n",
    "**Modify the code below to check if the user entered a number.**"
   ]
  },
  {
   "cell_type": "code",
   "execution_count": 13,
   "metadata": {},
   "outputs": [],
   "source": [
    "def get_ripple_voltage():\n",
    "    num_of_terms = int(input(\"please input the number of terms: \"))\n",
    "    freq = int(input(\"please input your frequency: \"))\n",
    "    try:\n",
    "        time = int(input(\"please input your time: \"))\n",
    "    except:\n",
    "        time = None\n",
    "    voltage_ac_peak = int(input(\"please input the peak AC voltage: \"))"
   ]
  },
  {
   "cell_type": "markdown",
   "metadata": {},
   "source": [
    "# Exercise 8: Applying For Loops"
   ]
  },
  {
   "cell_type": "markdown",
   "metadata": {},
   "source": [
    "At this point, the program is being set up to take two path ways: \n",
    "\n",
    "if a value for time is passed to the function, the value of the voltage at that time will be returned\n",
    "\n",
    "if a value for time is not passed, the general function will be plotted for a range of values of t\n",
    "\n",
    "**Create a function which takes the first path way. This should take all the arguments needed to caluclate the value of the output voltage as shown in the equation in exercise 5 (which has been repeated below). Round the final voltage to 2 decimal places.**\n",
    "\n",
    "Hint: use a loop to cycle through the values of n, finding the value of the voltage. Create a variable which will store the value of the voltage at n = 0, and is added to in each cycle. You may need to call a previous function to add in a term to the series."
   ]
  },
  {
   "cell_type": "markdown",
   "metadata": {
    "editable": false
   },
   "source": [
    "$$ voltage(t) = \\frac{2\\cdot voltage_{AC peak}}{\\pi } + \\frac{4\\cdot voltage_{AC peak}}{\\pi } \\cdot \\sum_{n=1}^{\\infty}\\tfrac{cos(n\\pi )}{1-4n^{2}}\\cdot cos(2n\\omega t)$$"
   ]
  },
  {
   "cell_type": "code",
   "execution_count": 14,
   "metadata": {},
   "outputs": [],
   "source": [
    "def get_fourier_series(voltage_ac_peak, freq, num_of_terms, time):\n",
    "    x = (2*voltage_ac_peak / math.pi) + (4*voltage_ac_peak / math.pi) * (math.cos(0*math.pi)/1-(4*0**2)) * math.cos(2*0*freq*time)\n",
    "    for n in range(num_of_terms+1):\n",
    "        x += (2*voltage_ac_peak / math.pi) + (4*voltage_ac_peak / math.pi) * (math.cos(n*math.pi)/1-4*n**2) * math.cos(2*n*freq*time)\n",
    "    x = round(x,2)\n"
   ]
  },
  {
   "cell_type": "markdown",
   "metadata": {},
   "source": [
    "# Exercise 9: Using Print Statements"
   ]
  },
  {
   "cell_type": "markdown",
   "metadata": {},
   "source": [
    "x = range()\n",
    "print(x) %test"
   ]
  },
  {
   "cell_type": "markdown",
   "metadata": {},
   "source": [
    "**rewrite the function get_fourier_series to print \"The value of the function at t = BLANK is BLANK\" where the BLANKs are replaced with the time and output voltage respectively.**\n",
    "\n",
    "The syntax for printing variables like this is to use curly braces { } and the format method:"
   ]
  },
  {
   "cell_type": "code",
   "execution_count": 15,
   "metadata": {
    "editable": false,
    "scrolled": true
   },
   "outputs": [
    {
     "name": "stdout",
     "output_type": "stream",
     "text": [
      "Write some text here, variables are indcated by curly braces then finish with a dot notation with the varible name(s) inside, separate multiple variables with a comma\n"
     ]
    }
   ],
   "source": [
    "c = \"curly\"\n",
    "b = \"braces\"\n",
    "print(\"Write some text here, variables are indcated by {} {} then finish with a dot notation with the varible name(s) inside, separate multiple variables with a comma\".format(c,b))"
   ]
  },
  {
   "cell_type": "code",
   "execution_count": 16,
   "metadata": {},
   "outputs": [],
   "source": [
    "def get_fourier_series(voltage_ac_peak, freq, num_of_terms, time):\n",
    "    x = (2*voltage_ac_peak / math.pi) + (4*voltage_ac_peak / math.pi) * (math.cos(0*math.pi)/1-(4*0**2)) * math.cos(2*0*freq*time)\n",
    "    for n in range(num_of_terms+1):\n",
    "        x += (2*voltage_ac_peak / math.pi) + (4*voltage_ac_peak / math.pi) * (math.cos(n*math.pi)/1-4*n**2) * math.cos(2*n*freq*time)\n",
    "    x = round(x,2)\n",
    "    print(\"The value of the function at t = {} is {}\".format(time,x))\n"
   ]
  },
  {
   "cell_type": "markdown",
   "metadata": {},
   "source": [
    "# Exercise 10: Using the 'None' Keyword"
   ]
  },
  {
   "cell_type": "markdown",
   "metadata": {},
   "source": [
    "**rewrite the function get_fourier_series so that the time parameter is a keyword argument that defaults to None. Use conditional statements to check the value of time. If time is None, print \"Time is None\". If time is not None, the program should calculate the voltage at time t.**"
   ]
  },
  {
   "cell_type": "code",
   "execution_count": 21,
   "metadata": {},
   "outputs": [],
   "source": [
    "def get_fourier_series(voltage_ac_peak, freq, num_of_terms, time):\n",
    "    if time == None:\n",
    "        print(\"Time is None\")\n",
    "    else:\n",
    "        x = (2*voltage_ac_peak / math.pi) + (4*voltage_ac_peak / math.pi) * (math.cos(0*math.pi)/1-(4*0**2)) * math.cos(2*0*freq*time)\n",
    "        for n in range(num_of_terms+1):\n",
    "            x += (2*voltage_ac_peak / math.pi) + (4*voltage_ac_peak / math.pi) * (math.cos(n*math.pi)/1-4*n**2) * math.cos(2*n*freq*time)\n",
    "        x = round(x,2)\n",
    "        print(x)\n",
    "    \n",
    "    \n",
    "    \n",
    "    "
   ]
  },
  {
   "cell_type": "markdown",
   "metadata": {},
   "source": [
    "# Exercise 11: Using Arrays"
   ]
  },
  {
   "cell_type": "markdown",
   "metadata": {},
   "source": [
    "The case where the user enters a time t is now complete. \n",
    "\n",
    "For the case where the user does not enter a value for t, the program needs to sample the function at many values of t so that a graph can be plotted. \n",
    "\n",
    "The function will be sampled 100 times for an accurate plot.\n",
    "\n",
    "The final program will plot the AC voltage, modulus voltage, and the ripple voltage. \n",
    "\n",
    "**Focusing on the modulus voltage, modify the code fragment below so that:**\n",
    "\n",
    "> an empty array of 100 elements is created\n",
    "\n",
    "> each element of the array is incremented by the value of the function in 0.1 second intervals\n",
    "\n",
    "> each element is multipled by twice the dc voltage\n",
    "\n",
    "> each element is then incremented by the dc voltage \n",
    "\n",
    "\n",
    "HINT: The function is essentially looping through the function for 100 values of t, and N values of n. These are all added to an array which will serve as the y coordinates of the graph. Each element is multipled by twice the dc voltage then incremented by it because this is the value of the function for that time t as described by the equation in exercise 8."
   ]
  },
  {
   "cell_type": "code",
   "execution_count": 55,
   "metadata": {},
   "outputs": [
    {
     "ename": "NameError",
     "evalue": "name 'time' is not defined",
     "traceback": [
      "\u001b[0;31m---------------------------------------------------------------------------\u001b[0m",
      "\u001b[0;31mNameError\u001b[0m                                 Traceback (most recent call last)",
      "\u001b[0;32m/var/folders/6q/475tbh2d161gpk8131qq47pm0000gn/T/ipykernel_13258/1902419272.py\u001b[0m in \u001b[0;36m<module>\u001b[0;34m\u001b[0m\n\u001b[1;32m      1\u001b[0m \u001b[0;31m# Change the 'variable' comments so that the appropriate variables are being operated on\u001b[0m\u001b[0;34m\u001b[0m\u001b[0;34m\u001b[0m\u001b[0m\n\u001b[1;32m      2\u001b[0m \u001b[0;34m\u001b[0m\u001b[0m\n\u001b[0;32m----> 3\u001b[0;31m \u001b[0;32mif\u001b[0m \u001b[0mtime\u001b[0m \u001b[0;34m==\u001b[0m \u001b[0;32mNone\u001b[0m\u001b[0;34m:\u001b[0m\u001b[0;34m\u001b[0m\u001b[0;34m\u001b[0m\u001b[0m\n\u001b[0m\u001b[1;32m      4\u001b[0m     \u001b[0;31m#Modulus Voltage\u001b[0m\u001b[0;34m\u001b[0m\u001b[0;34m\u001b[0m\u001b[0m\n\u001b[1;32m      5\u001b[0m     \u001b[0mmodulus_voltage\u001b[0m \u001b[0;34m=\u001b[0m \u001b[0;34m[\u001b[0m\u001b[0;36m0\u001b[0m\u001b[0;34m]\u001b[0m\u001b[0;34m\u001b[0m\u001b[0;34m\u001b[0m\u001b[0m\n",
      "\u001b[0;31mNameError\u001b[0m: name 'time' is not defined"
     ],
     "output_type": "error"
    }
   ],
   "source": [
    "# Change the 'variable' comments so that the appropriate variables are being operated on\n",
    "\n",
    "if time == None:\n",
    "    #Modulus Voltage\n",
    "    modulus_voltage = [0]\n",
    "    # make the array 100 times larger, so it is full with 100 zeros  \n",
    "for x in range(num_of_terms+1):\n",
    "    count += 1\n",
    "    for t in range(100):\n",
    "        modulus_voltage[x] += (1/(1-(4*count*count)))*cos(2*count*2*np.pi*freq*(t/1000))\n",
    "        \n",
    "for t in range(100):\n",
    "    modulus_voltage[t] *= 2*voltage_dc\n",
    "    modulus_voltage[t] += voltage_dc"
   ]
  },
  {
   "cell_type": "code",
   "execution_count": null,
   "metadata": {},
   "outputs": [],
   "source": []
  },
  {
   "cell_type": "markdown",
   "metadata": {},
   "source": [
    "# Exercise 12: Building a Large Program from Smaller Functions"
   ]
  },
  {
   "cell_type": "markdown",
   "metadata": {},
   "source": [
    "The cell below has the final program, with its main structure intact. \n",
    "\n",
    "A few additional modules have been imported to graph the functions.\n",
    "\n",
    "**Copy and paste the functions you have developed during the lab in the above cells into the correct places in the program below and run the program cell.**\n",
    "\n",
    "The graph of the sine wave and modulus of the sine wave are valid for any input. However, the ripple voltage has been approximated for a specific set of values. \n",
    "\n",
    "**To have the 3 graphs line up as in the intridctory graph, use the user input shown below:**\n",
    "\n",
    "> Enter number of terms for approximation: 5\n",
    "\n",
    "> Enter the source frequency: 50\n",
    "\n",
    "> Enter time for function to be evaluated at (for an alegbraic answer press enter) :\n",
    "\n",
    "> Enter the peak AC voltage: 5"
   ]
  },
  {
   "cell_type": "code",
   "execution_count": 57,
   "metadata": {},
   "outputs": [
    {
     "name": "stdout",
     "output_type": "stream",
     "text": [
      "please input the number of terms: 5\n",
      "please input your frequency: 5\n",
      "please input your time: \n",
      "please input the peak AC voltage: 5\n"
     ]
    }
   ],
   "source": [
    "from math import *\n",
    "import matplotlib.pyplot as plt\n",
    "import numpy as np\n",
    "\n",
    "def draw_graph(voltage_ac_peak,freq,modulus_voltage,ripple_voltage):\n",
    "    t = np.arange(0.0,0.1,0.001)\n",
    "    AC_voltage = voltage_ac_peak*np.sin(t*2*np.pi*freq)\n",
    "    plt.subplot(3,1,1)\n",
    "    plt.plot(t,AC_voltage)\n",
    "    plt.subplot(3,1,2)\n",
    "    plt.plot(t,modulus_voltage)\n",
    "    plt.subplot(3,1,3)\n",
    "    plt.plot(t,ripple_voltage)\n",
    "    plt.tight_layout()\n",
    "\n",
    "#get_dc_voltage function definition (exercise 4)\n",
    "def get_dc_voltage(peak_ac_voltage):\n",
    "    voltage_dc = (2*peak_ac_voltage) / math.pi\n",
    "    voltage_dc = round(voltage_dc, 2)\n",
    "    # Return statement\n",
    "    return voltage_dc\n",
    "\n",
    "def get_fourier_series(num_of_terms,freq,voltage_ac_peak,time=None):\n",
    "    voltage_dc = get_dc_voltage(voltage_ac_peak)\n",
    "\n",
    "    if time == None:\n",
    "    #Modulus Voltage\n",
    "        modulus_voltage = [0]\n",
    "    # make the array 100 times larger, so it is full with 100 zeros  \n",
    "    for x in range(num_of_terms+1):\n",
    "        count += 1\n",
    "        for t in range(100):\n",
    "            modulus_voltage[x] += (1/(1-(4*count*count)))*cos(2*count*2*np.pi*freq*(t/1000))\n",
    "        \n",
    "    for t in range(100):\n",
    "        modulus_voltage[t] *= 2*voltage_dc\n",
    "        modulus_voltage[t] += voltage_dc\n",
    "    \n",
    "        #Ripple Voltage\n",
    "        ripple_voltage = []\n",
    "        for count in range(100):\n",
    "            ripple_voltage.append(0)\n",
    "        \n",
    "        offset_start = 0\n",
    "        offset_end = 9\n",
    "        for increment in range (10):\n",
    "                for t in range(offset_start,offset_end):\n",
    "                    ripple_voltage[offset_start] = 3.67\n",
    "                    ripple_voltage[offset_start+1] = 3.45\n",
    "                    ripple_voltage[offset_start+2] = 4.16\n",
    "                    ripple_voltage[offset_start+3] = 4.54\n",
    "                    ripple_voltage[offset_start+4] = 4.83\n",
    "                    ripple_voltage[offset_start+5] = 4.98\n",
    "                    ripple_voltage[offset_start+6] = 4.83\n",
    "                    ripple_voltage[offset_start+7] = 4.54\n",
    "                    ripple_voltage[offset_start+8] = 4.25\n",
    "                    ripple_voltage[offset_start+9] = 3.95 \n",
    "                offset_start += 10\n",
    "                offset_end += 10\n",
    "        ripple_voltage[0] = 0\n",
    "        ripple_voltage[1] = 3\n",
    "        \n",
    "        \n",
    "\n",
    "        draw_graph(voltage_ac_peak,freq,modulus_voltage,ripple_voltage)\n",
    "\n",
    "    else:\n",
    "        \n",
    "        x = (2*voltage_ac_peak / math.pi) + (4*voltage_ac_peak / math.pi) * (math.cos(0*math.pi)/1-(4*0**2)) * math.cos(2*0*freq*time)\n",
    "        for n in range(num_of_terms+1):\n",
    "            x += (2*voltage_ac_peak / math.pi) + (4*voltage_ac_peak / math.pi) * (math.cos(n*math.pi)/1-4*n**2) * math.cos(2*n*freq*time)\n",
    "        x = round(x,2)\n",
    "        print(x)\n",
    "        #Calculate the voltage at time t (exercise 10)\n",
    "\n",
    "        \n",
    "# get_ripple_voltage function definition (exercise 7)\n",
    "def get_ripple_voltage():\n",
    "    num_of_terms = int(input(\"please input the number of terms: \"))\n",
    "    freq = int(input(\"please input your frequency: \"))\n",
    "    try:\n",
    "        time = int(input(\"please input your time: \"))\n",
    "    except:\n",
    "        time = None\n",
    "    voltage_ac_peak = int(input(\"please input the peak AC voltage: \"))\n",
    "\n",
    "get_ripple_voltage()\n",
    "\n",
    "\n"
   ]
  },
  {
   "cell_type": "markdown",
   "metadata": {},
   "source": [
    "##### We are working within a Jupyter notebook which has a ipynb file. \n",
    "\n",
    "However, your code in the above cell can be copy and pasted into a .py file.\n",
    "\n",
    "This will allow you to execute as a standard Python program as long as the modules are available on the platform you are running your python interpreter on.\n",
    "\n",
    "It is now common practice to use notebooks like this to develop code ideas before copying the \"final version\" into a single cell for running at the bottom. In this way, you can maintain your workflow and test fragments of you program without continually running the whole thing. The only thing to watch out for is that the kernal has residual objects created before which can interfer. You should restart the kernel from the menu before running your final cell.\n",
    "\n",
    "\n",
    "**create a py file using the IDLE editor (outside of this notebook) and run your program as a standalone**\n",
    "\n",
    "congratulations - you now have a python rectifier :-)"
   ]
  },
  {
   "cell_type": "markdown",
   "metadata": {},
   "source": [
    "# End of Lab \n",
    "\n",
    "This is the end of your Lab!\n",
    "\n",
    "Please note this is not a complete reference but is designed to introduce you to concepts and common errors of the python language and allow you to relate coding to engineering applications.\n",
    "\n",
    "Please consult the online reference materials to find out more (Canvas has links).\n",
    "\n",
    "Jupyter notebooks are not just for coding; you can write in them too in markup language. So note in the next cell what what you learned/found difficult or easy in the space below.\n",
    "\n"
   ]
  },
  {
   "cell_type": "markdown",
   "metadata": {},
   "source": [
    "##### **please reflect on your learning below**\n",
    "\n",
    "### I rate this lab (out of 5): 5\n",
    "\n",
    "### What I find easy:\n",
    "Lorem ipsum dolor sit amet, consectetur adipiscing elit, sed do eiusmod tempor incididunt ut labore et dolore magna aliqua.\n",
    "\n",
    "### What I find difficult:\n",
    "Lorem ipsum dolor sit amet, consectetur adipiscing elit, sed do eiusmod tempor incididunt ut labore et dolore magna aliqua.\n",
    "\n",
    "### What I should improve:\n",
    "Lorem ipsum dolor sit amet, consectetur adipiscing elit, sed do eiusmod tempor incididunt ut labore et dolore magna aliqua."
   ]
  },
  {
   "cell_type": "markdown",
   "metadata": {},
   "source": [
    "# Next Learning Steps\n",
    "\n",
    "* **Upload this completed notebook to canvas**\n",
    "* **move onto the next lab**"
   ]
  },
  {
   "cell_type": "markdown",
   "metadata": {},
   "source": [
    "# Python for Engineers\n",
    "(c) 2018,2019,2020 Dr Neil Cooke, School of Engineering, Collaborative Teaching Laboratory, University of Birmingham"
   ]
  },
  {
   "cell_type": "code",
   "execution_count": null,
   "metadata": {},
   "outputs": [],
   "source": []
  }
 ],
 "metadata": {
  "kernelspec": {
   "display_name": "Python 3 (ipykernel)",
   "language": "python",
   "name": "python3"
  },
  "language_info": {
   "codemirror_mode": {
    "name": "ipython",
    "version": 3
   },
   "file_extension": ".py",
   "mimetype": "text/x-python",
   "name": "python",
   "nbconvert_exporter": "python",
   "pygments_lexer": "ipython3",
   "version": "3.9.7"
  }
 },
 "nbformat": 4,
 "nbformat_minor": 1
}
