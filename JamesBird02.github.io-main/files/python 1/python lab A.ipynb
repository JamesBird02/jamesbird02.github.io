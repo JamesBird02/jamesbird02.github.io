{
 "cells": [
  {
   "cell_type": "markdown",
   "metadata": {},
   "source": [
    "### Name: James Bird\n",
    "### Username: JXB1330\n",
    "### ID number: 2212304"
   ]
  },
  {
   "cell_type": "markdown",
   "metadata": {},
   "source": [
    "# Laboratory A: Python Foundation: Variables, Keywords and Data Types"
   ]
  },
  {
   "cell_type": "markdown",
   "metadata": {},
   "source": [
    "# Python for Engineers\n",
    "(c) 2018-2021 Dr Neil Cooke, School of Engineering, Collaborative Teaching Laboratory, University of Birmingham"
   ]
  },
  {
   "cell_type": "markdown",
   "metadata": {},
   "source": [
    "# Introduction\n",
    "\n",
    "This is foundation work. \n",
    "\n",
    "It consists of 8 short exercises that should take no more than 30-60 minutes to complete.\n",
    "\n",
    "It is advised that you complete these before beginning the lab sessions. \n",
    "\n",
    "It introduces basic programming concepts and Python syntax.\n",
    "\n",
    "Prior to this lab you should have:\n",
    "\n",
    "* Begun the series of python lectures/videos\n",
    "* Reviewed the online support materials for Python provided on Canvas\n",
    "* Installed python on your personal computer and/or be familiar with its use.\n",
    "* Be familiar with other procedural programming languages i.e. C.\n",
    "\n",
    "You should upload this completed notebook to canvas. \n",
    "\n",
    "In the labs you will write a series of functions, which together, will simulate an electronic circuits.\n"
   ]
  },
  {
   "cell_type": "markdown",
   "metadata": {},
   "source": [
    "## Learning Outcomes\n",
    "\n",
    "This is a gentle introduction to the Python language and its syntax assuming that you have previous programming knowledge. You are advised to complete this before the lab. I cover the following:\n",
    "\n",
    "> Variable names can only contain letters, number and underscores. Names cannot be started with a number.\n",
    "\n",
    "> Variable types do not need to be stated explicitly in Python. The interpreter will assume a type depending on how the variable is declared.\n",
    "\n",
    "> Python has 'reserved words' (or 'keywords') which cannot be used for the names of variables and constants.\n",
    "\n",
    "> There are 5 built-in data types: Numbers, Strings, Lists, Tuples and Dictionaries\n",
    "\n",
    "> Mathematical operators do not only have to be used with numbers, but can be used with other data types too (like strings)\n",
    "\n",
    "> Python uses float division by default on integers, with floor division using a separate operator\n",
    "\n",
    "> Data types can be changed in a program using casting\n",
    "\n",
    "**tasks you are required to do are highlighted in bold throughout this notebook**"
   ]
  },
  {
   "cell_type": "markdown",
   "metadata": {},
   "source": [
    "## Tools to complete this lab\n",
    "\n",
    "* Use this Jupyter notebook and complete/save your work in it. This requires a computing platform capable of running Python 3.x and Jupyter notebook (Anaconda distribution is preferred at the time of writing). \n",
    "\n",
    "* NOTE: pressing CTRL+Z on a highlighted cell will return it to its previous state. Use this to undo any changes you have made if you get lost and want to start again.\n",
    "\n",
    "* If for whatever reason you do not or cannot use Jupyter notebooks, then use the PDF document of this as a 'lab sheet' and type / copy the python code into a py file in the order presented in the sheet, using the IDLE python editor and suitable comments between sections e.g. #Exercise 1. This will require a computing platform with Python 3.x installed. (not recommended)\n"
   ]
  },
  {
   "cell_type": "markdown",
   "metadata": {
    "editable": false
   },
   "source": [
    "# Exercise 1: Variable Names"
   ]
  },
  {
   "cell_type": "markdown",
   "metadata": {},
   "source": [
    "Some conventions:\n",
    "* Variable names cannot be any series of characters and symbols. \n",
    "* There are a few rules which decide whether a variable name is legal. \n",
    "* Some variable names are legal, but defy convention. For example, 'ThisVariable' is a legal name for a variable, but using capital letters to separate the words (camel case) is not convention. \n",
    "* Variable and function names should be written with lower case letters, with words separated by underscores (snake case). \n",
    "\n",
    "**Try running the cells below (press shift enter when editing a cell to run it) to find which variable names are legal,and which are not. Change the variable names so they match the Python naming convention. **"
   ]
  },
  {
   "cell_type": "code",
   "execution_count": 33,
   "metadata": {
    "scrolled": true
   },
   "outputs": [
    {
     "data": {
      "text/plain": [
       "4"
      ]
     },
     "execution_count": 33,
     "metadata": {},
     "output_type": "execute_result"
    }
   ],
   "source": [
    "tenth_power = 4\n",
    "tenth_power\n",
    "convert(\"tenth_power\")"
   ]
  },
  {
   "cell_type": "code",
   "execution_count": 143,
   "metadata": {},
   "outputs": [
    {
     "name": "stdout",
     "output_type": "stream",
     "text": [
      "voltage\n"
     ]
    }
   ],
   "source": [
    "Voltage = 5.34 # V\n",
    "Voltage\n",
    "print(convert(\"Voltage\"))"
   ]
  },
  {
   "cell_type": "code",
   "execution_count": 35,
   "metadata": {},
   "outputs": [
    {
     "data": {
      "text/plain": [
       "13.12"
      ]
     },
     "execution_count": 35,
     "metadata": {},
     "output_type": "execute_result"
    }
   ],
   "source": [
    "total_current = 13.12 # A\n",
    "total_current\n",
    "print(convert(\"total_current\"))"
   ]
  },
  {
   "cell_type": "code",
   "execution_count": 42,
   "metadata": {},
   "outputs": [
    {
     "name": "stdout",
     "output_type": "stream",
     "text": [
      "no__of__loops\n"
     ]
    }
   ],
   "source": [
    "No_Of_Loops = 8\n",
    "No_Of_Loops\n",
    "print(convert(\"No_Of_Loops\"))"
   ]
  },
  {
   "cell_type": "code",
   "execution_count": 138,
   "metadata": {},
   "outputs": [
    {
     "name": "stdout",
     "output_type": "stream",
     "text": [
      "reactive_power\n"
     ]
    }
   ],
   "source": [
    "reactive_power = 67.2 # W\n",
    "reactive_power\n",
    "print(convert(\"reactive_power\"))"
   ]
  },
  {
   "cell_type": "code",
   "execution_count": 137,
   "metadata": {},
   "outputs": [
    {
     "name": "stdout",
     "output_type": "stream",
     "text": [
      "impedance_start\n"
     ]
    }
   ],
   "source": [
    "impedance_start = 23.4 # Ohms\n",
    "impedance_start\n",
    "print(convert(\"impedance_start\"))"
   ]
  },
  {
   "cell_type": "markdown",
   "metadata": {
    "editable": false
   },
   "source": [
    "**the following function converts camel case to snake case. Run this function to load it in memory (shift-enter while in the cell below).**"
   ]
  },
  {
   "cell_type": "code",
   "execution_count": 40,
   "metadata": {},
   "outputs": [],
   "source": [
    "import re # import a regular expression library with is used to parse text\n",
    "\n",
    "#convert function takes in a CamelCase variable name and converts it to snake_case variable name\n",
    "def convert(name):\n",
    "    s1 = re.sub('(.)([A-Z][a-z]+)', r'\\1_\\2', name)\n",
    "    return re.sub('([a-z0-9])([A-Z])', r'\\1_\\2', s1).lower()"
   ]
  },
  {
   "cell_type": "markdown",
   "metadata": {
    "editable": false
   },
   "source": [
    "**now using the variable names you corrected previously, call the convert function with each one to determine new output.**"
   ]
  },
  {
   "cell_type": "code",
   "execution_count": 32,
   "metadata": {},
   "outputs": [
    {
     "name": "stdout",
     "output_type": "stream",
     "text": [
      "this_string\n",
      "that_string\n"
     ]
    },
    {
     "data": {
      "text/plain": [
       "'another__string'"
      ]
     },
     "execution_count": 32,
     "metadata": {},
     "output_type": "execute_result"
    }
   ],
   "source": [
    "print(convert(\"ThisString\")) #we are printing as multiple calls to functions in a cell will only result in the final call output\n",
    "print(convert(\"ThatString\"))\n",
    "convert(\"Another_String\") #final call does not require print function \n"
   ]
  },
  {
   "cell_type": "markdown",
   "metadata": {
    "editable": false
   },
   "source": [
    "# Exercise 2. Declaring Constants"
   ]
  },
  {
   "cell_type": "markdown",
   "metadata": {},
   "source": [
    "* Constants should be declared at the top of a program. \n",
    "* The convention for constants is to use all caps with underscores to separate words. \n",
    "* However constants are just a variable the user doesnt change, and can be written using any legal variable name. \n",
    "* Unlike other languages (such as C), the data type of a variable does *not* need to be explicitly declared.\n",
    "\n",
    "**Run the cells below and tweak the variable declarations to make the programs work correctly. \n",
    "Only the declarations need to be changed.**"
   ]
  },
  {
   "cell_type": "code",
   "execution_count": 47,
   "metadata": {},
   "outputs": [
    {
     "name": "stdout",
     "output_type": "stream",
     "text": [
      "Hello World\n"
     ]
    }
   ],
   "source": [
    "DEFAULT_STRING = \"Hello World\" # initialised string prior to user input\n",
    "\n",
    "STRING_ENTERED = False # initialised flag to determine whether user has entered string\n",
    "\n",
    "'''\n",
    "in the real world there will be code here which does something- get user input \n",
    "'''\n",
    "\n",
    "if STRING_ENTERED == False: #user has not entered a string\n",
    "    print(DEFAULT_STRING) # output the initialised string\n",
    "    \n",
    "#note: use flags in real programming only as a last resort!"
   ]
  },
  {
   "cell_type": "code",
   "execution_count": 46,
   "metadata": {},
   "outputs": [
    {
     "name": "stdout",
     "output_type": "stream",
     "text": [
      "28.26\n"
     ]
    }
   ],
   "source": [
    "PI = 3.14 #value of PI to 2 dp\n",
    "\n",
    "radius = 3 #radius of a circle\n",
    "area_of_a_circle = PI * radius**2 #calculate areas of circle from radius using well known formula...\n",
    "\n",
    "print(area_of_a_circle) # output the result."
   ]
  },
  {
   "cell_type": "markdown",
   "metadata": {
    "editable": false
   },
   "source": [
    "# Exercise 3: Reserved Words"
   ]
  },
  {
   "cell_type": "markdown",
   "metadata": {
    "editable": false
   },
   "source": [
    "* Python has 'reserved words' (or 'key words') which have a built-in function. \n",
    "* Variables and constants cannot have the same name as these words or else the interpreter will be confused (hence the name 'reserved').\n",
    "\n",
    "**The program below uses two variables with names which are the same as reserved words. Change the names of these variables so that the program can be run.**"
   ]
  },
  {
   "cell_type": "code",
   "execution_count": 49,
   "metadata": {},
   "outputs": [
    {
     "name": "stdout",
     "output_type": "stream",
     "text": [
      "For a voltage of 5 ∠ 30 V : the current is 0.01 ∠ 29.7 A\n"
     ]
    }
   ],
   "source": [
    "R_wire = 0.6 #resistance of wire\n",
    "L_wire = 0.3 #inductance of wire\n",
    "\n",
    "#compute current in RL circuiut given real and imaginary voltages\n",
    "def get_current(R, L, voltage_real, voltage_imag):\n",
    "  R_equiv = R/3 \n",
    "  L_equiv = L/3\n",
    "  current_real = round(voltage_real/(R_equiv+R_wire),2)\n",
    "  current_imag = round(voltage_imag - (L_equiv+L_wire),2)\n",
    "  raised = \"For a voltage of {} ∠ {} V : \".format(voltage_real,voltage_imag)\n",
    "  final = \"the current is {} ∠ {} A\".format(current_real,current_imag)\n",
    "  print(raised+final)\n",
    "\n",
    "get_current(2000, 0.001, 5, 30)"
   ]
  },
  {
   "cell_type": "markdown",
   "metadata": {
    "editable": false
   },
   "source": [
    "## void and fruitful functions\n",
    "\n",
    "If you have used other programming languages, you may have noticed that this function does not have a return value; the function does not return anything when called. \n",
    "\n",
    "This is called a 'void function'. If a function does have a return value, it is called a 'fruitful function'.\n",
    "\n",
    "These concepts will be covered more in depth in Lab 1."
   ]
  },
  {
   "cell_type": "markdown",
   "metadata": {
    "editable": false
   },
   "source": [
    "# Exercise 4: Data Types"
   ]
  },
  {
   "cell_type": "markdown",
   "metadata": {},
   "source": [
    "Python has 5 built in data types which you need to become very familiar with:\n",
    "\n",
    "<center>*Numbers* - int, long, float, complex </center>\n",
    "<center>*Strings* - created using either single quotes ('') or double quotes (\"\")</center>\n",
    "<center>*Lists* - can store all data types, used to create arrays of numbers and text</center>\n",
    "<center>*Tuples* - stores an ordered series of data which is immutable (cannot be changed)</center>\n",
    "<center>*Dictionaries* - stores pairs of data called 'keys' and 'values', where calling a key will return its associated value</center>"
   ]
  },
  {
   "cell_type": "markdown",
   "metadata": {},
   "source": [
    "* As mentioned in exercise 2, Python will assume the type of a variable based on how you declare it. \n",
    "* If it is delcared with inverted commas, it is assumed to be a string. \n",
    "* If it is declared with a decimal point, it is assumed to be a float. \n",
    "\n",
    "To check which type Python has assumed a variable (or object) to be, you can use the ```type()``` function call. \n",
    "* The argument this function takes is the name of the object you are testing. Using the ```type()``` function may come in useful when debugging a program.\n",
    "\n",
    "**For an example, try running the cell below to determine its type (float)**"
   ]
  },
  {
   "cell_type": "code",
   "execution_count": 50,
   "metadata": {
    "editable": false
   },
   "outputs": [
    {
     "data": {
      "text/plain": [
       "float"
      ]
     },
     "execution_count": 50,
     "metadata": {},
     "output_type": "execute_result"
    }
   ],
   "source": [
    "my_num = 1.5\n",
    "type(my_num)"
   ]
  },
  {
   "cell_type": "markdown",
   "metadata": {},
   "source": [
    "**Now use the ```type()``` function call to find the types of the variables below:**"
   ]
  },
  {
   "cell_type": "code",
   "execution_count": 51,
   "metadata": {},
   "outputs": [
    {
     "data": {
      "text/plain": [
       "str"
      ]
     },
     "execution_count": 51,
     "metadata": {},
     "output_type": "execute_result"
    }
   ],
   "source": [
    "circuit_arrangement = 'parallel'\n",
    "# type() command\n",
    "type(circuit_arrangement)"
   ]
  },
  {
   "cell_type": "code",
   "execution_count": 52,
   "metadata": {},
   "outputs": [
    {
     "data": {
      "text/plain": [
       "int"
      ]
     },
     "execution_count": 52,
     "metadata": {},
     "output_type": "execute_result"
    }
   ],
   "source": [
    "initial_voltage = 5\n",
    "type(initial_voltage)\n",
    "# type() command"
   ]
  },
  {
   "cell_type": "code",
   "execution_count": 53,
   "metadata": {},
   "outputs": [
    {
     "data": {
      "text/plain": [
       "list"
      ]
     },
     "execution_count": 53,
     "metadata": {},
     "output_type": "execute_result"
    }
   ],
   "source": [
    "sensor_output = [1.4,5.2,3.4,1.0,6.3,2.4]\n",
    "# type() command\n",
    "type(sensor_output)"
   ]
  },
  {
   "cell_type": "code",
   "execution_count": 54,
   "metadata": {},
   "outputs": [
    {
     "data": {
      "text/plain": [
       "tuple"
      ]
     },
     "execution_count": 54,
     "metadata": {},
     "output_type": "execute_result"
    }
   ],
   "source": [
    "resistors = (180,1000,2500,3900)\n",
    "# type() command\n",
    "type(resistors)"
   ]
  },
  {
   "cell_type": "code",
   "execution_count": 55,
   "metadata": {},
   "outputs": [
    {
     "data": {
      "text/plain": [
       "dict"
      ]
     },
     "execution_count": 55,
     "metadata": {},
     "output_type": "execute_result"
    }
   ],
   "source": [
    "conversion_values = {'1':'0001','2':'0010','3':'0011','4':'0100'}\n",
    "# type() command\n",
    "type(conversion_values)\n"
   ]
  },
  {
   "cell_type": "markdown",
   "metadata": {
    "editable": false
   },
   "source": [
    "# Exercise 5: Basic Operations"
   ]
  },
  {
   "cell_type": "markdown",
   "metadata": {},
   "source": [
    "* Data types can be operated on in different ways. \n",
    "* Each cell below uses a different operator to act on a variable(s). \n",
    "\n",
    "**See which data types can be operated on by which operator by adding and removing comments (#). Any line preceeded by a # will be ignored by the interpreter.**"
   ]
  },
  {
   "cell_type": "code",
   "execution_count": 62,
   "metadata": {},
   "outputs": [
    {
     "ename": "TypeError",
     "evalue": "unsupported operand type(s) for +: 'dict' and 'dict'",
     "traceback": [
      "\u001b[1;31m---------------------------------------------------------------------------\u001b[0m",
      "\u001b[1;31mTypeError\u001b[0m                                 Traceback (most recent call last)",
      "\u001b[1;32m<ipython-input-62-47f9d36e8196>\u001b[0m in \u001b[0;36m<module>\u001b[1;34m\u001b[0m\n\u001b[0;32m     21\u001b[0m \u001b[1;33m\u001b[0m\u001b[0m\n\u001b[0;32m     22\u001b[0m \u001b[1;33m\u001b[0m\u001b[0m\n\u001b[1;32m---> 23\u001b[1;33m \u001b[0mprint\u001b[0m\u001b[1;33m(\u001b[0m\u001b[0mx\u001b[0m\u001b[1;33m+\u001b[0m\u001b[0my\u001b[0m\u001b[1;33m)\u001b[0m\u001b[1;33m\u001b[0m\u001b[1;33m\u001b[0m\u001b[0m\n\u001b[0m",
      "\u001b[1;31mTypeError\u001b[0m: unsupported operand type(s) for +: 'dict' and 'dict'"
     ],
     "output_type": "error"
    }
   ],
   "source": [
    "''' Addition '''\n",
    "\n",
    "#x = 5\n",
    "#y = 6\n",
    "\n",
    "x = 4.1\n",
    "y = 2.8\n",
    "\n",
    "x = 'Hello '\n",
    "y = 'World!'\n",
    "\n",
    "x = [2,1,3]\n",
    "y = [4,2,4]\n",
    " \n",
    "x = (2,1,3)\n",
    "y = (4,2,4)\n",
    "\n",
    "x = {2:3,4:6,7:3}\n",
    "y = {3:1,5:3,1:0}\n",
    "\n",
    "\n",
    "\n",
    "print(x+y)"
   ]
  },
  {
   "cell_type": "code",
   "execution_count": null,
   "metadata": {},
   "outputs": [],
   "source": [
    "# Write a summary of what you found. For which data types is this operation valid? Which aren't?\n",
    "# data types such as int float strings lists and tuples can be added together \n",
    "# dictionary data types can not be added together \n",
    "#\n",
    "#\n",
    "#\n",
    "#\n",
    "#\n",
    "#\n",
    "#\n"
   ]
  },
  {
   "cell_type": "code",
   "execution_count": 145,
   "metadata": {},
   "outputs": [
    {
     "ename": "TypeError",
     "evalue": "unsupported operand type(s) for -: 'tuple' and 'tuple'",
     "traceback": [
      "\u001b[1;31m---------------------------------------------------------------------------\u001b[0m",
      "\u001b[1;31mTypeError\u001b[0m                                 Traceback (most recent call last)",
      "\u001b[1;32m<ipython-input-145-2675dbe7c13a>\u001b[0m in \u001b[0;36m<module>\u001b[1;34m\u001b[0m\n\u001b[0;32m     22\u001b[0m \u001b[1;33m\u001b[0m\u001b[0m\n\u001b[0;32m     23\u001b[0m \u001b[1;33m\u001b[0m\u001b[0m\n\u001b[1;32m---> 24\u001b[1;33m \u001b[0mprint\u001b[0m\u001b[1;33m(\u001b[0m\u001b[0mx\u001b[0m\u001b[1;33m-\u001b[0m\u001b[0my\u001b[0m\u001b[1;33m)\u001b[0m\u001b[1;33m\u001b[0m\u001b[1;33m\u001b[0m\u001b[0m\n\u001b[0m",
      "\u001b[1;31mTypeError\u001b[0m: unsupported operand type(s) for -: 'tuple' and 'tuple'"
     ],
     "output_type": "error"
    }
   ],
   "source": [
    "''' Subtraction '''\n",
    "\n",
    "x = 3\n",
    "y = 9\n",
    "\n",
    "x = 2.5\n",
    "y = 6.7\n",
    "\n",
    "#x = 'Subtract '\n",
    "#y = 'Strings'\n",
    "\n",
    "#x = [5,3,6]\n",
    "#y = [2,7,4]\n",
    " \n",
    "x = (5,3,6)\n",
    "y = (2,7,4)\n",
    "\n",
    "#x = {'one':'uno','two':'dos','three':'tres'}\n",
    "#y = {'four':'cuatro','five':'cinco','six':'seis'}\n",
    "\n",
    "\n",
    "\n",
    "\n",
    "print(x-y)"
   ]
  },
  {
   "cell_type": "code",
   "execution_count": null,
   "metadata": {},
   "outputs": [],
   "source": [
    "# Write a summary of what you found. For which data types is this operation valid? Which aren't?\n",
    "# data types float int and strings can be subtracted \n",
    "# data types list tuple and dict cannot be subtracted together\n",
    "#\n",
    "#\n",
    "#\n",
    "#\n",
    "#\n",
    "#\n",
    "#\n"
   ]
  },
  {
   "cell_type": "code",
   "execution_count": 75,
   "metadata": {},
   "outputs": [
    {
     "ename": "TypeError",
     "evalue": "unsupported operand type(s) for *: 'dict' and 'int'",
     "traceback": [
      "\u001b[1;31m---------------------------------------------------------------------------\u001b[0m",
      "\u001b[1;31mTypeError\u001b[0m                                 Traceback (most recent call last)",
      "\u001b[1;32m<ipython-input-75-c48ee9b9db29>\u001b[0m in \u001b[0;36m<module>\u001b[1;34m\u001b[0m\n\u001b[0;32m     15\u001b[0m \u001b[1;33m\u001b[0m\u001b[0m\n\u001b[0;32m     16\u001b[0m \u001b[1;33m\u001b[0m\u001b[0m\n\u001b[1;32m---> 17\u001b[1;33m \u001b[0mprint\u001b[0m\u001b[1;33m(\u001b[0m\u001b[0mx\u001b[0m\u001b[1;33m*\u001b[0m\u001b[1;36m4\u001b[0m\u001b[1;33m)\u001b[0m\u001b[1;33m\u001b[0m\u001b[1;33m\u001b[0m\u001b[0m\n\u001b[0m",
      "\u001b[1;31mTypeError\u001b[0m: unsupported operand type(s) for *: 'dict' and 'int'"
     ],
     "output_type": "error"
    }
   ],
   "source": [
    "''' Multiplication '''\n",
    "\n",
    "x = 6\n",
    "\n",
    "x = 3.4\n",
    "\n",
    "x = 'Multiplication'\n",
    "\n",
    "x = [3,4,7]\n",
    "\n",
    "x = (3,4,7)\n",
    "\n",
    "x = {2:4,5:7,8:10}\n",
    "\n",
    "\n",
    "\n",
    "print(x*4)"
   ]
  },
  {
   "cell_type": "code",
   "execution_count": null,
   "metadata": {},
   "outputs": [],
   "source": [
    "# Write a summary of what you found. For which data types is this operation valid? Which aren't?\n",
    "# all data  types can be multiplied other than dict\n",
    "#\n",
    "#\n",
    "#\n",
    "#\n",
    "#\n",
    "#\n",
    "#\n",
    "#\n"
   ]
  },
  {
   "cell_type": "code",
   "execution_count": 83,
   "metadata": {},
   "outputs": [
    {
     "ename": "TypeError",
     "evalue": "unsupported operand type(s) for /: 'str' and 'int'",
     "traceback": [
      "\u001b[1;31m---------------------------------------------------------------------------\u001b[0m",
      "\u001b[1;31mTypeError\u001b[0m                                 Traceback (most recent call last)",
      "\u001b[1;32m<ipython-input-83-16a77f9239c0>\u001b[0m in \u001b[0;36m<module>\u001b[1;34m\u001b[0m\n\u001b[0;32m     15\u001b[0m \u001b[1;33m\u001b[0m\u001b[0m\n\u001b[0;32m     16\u001b[0m \u001b[1;33m\u001b[0m\u001b[0m\n\u001b[1;32m---> 17\u001b[1;33m \u001b[0mprint\u001b[0m\u001b[1;33m(\u001b[0m\u001b[0mx\u001b[0m\u001b[1;33m/\u001b[0m\u001b[1;36m4\u001b[0m\u001b[1;33m)\u001b[0m\u001b[1;33m\u001b[0m\u001b[1;33m\u001b[0m\u001b[0m\n\u001b[0m",
      "\u001b[1;31mTypeError\u001b[0m: unsupported operand type(s) for /: 'str' and 'int'"
     ],
     "output_type": "error"
    }
   ],
   "source": [
    "''' Division '''\n",
    "\n",
    "x = 9\n",
    "\n",
    "x = 6.3\n",
    "\n",
    "x = 'Division'\n",
    "\n",
    "#x = [5,7,3]\n",
    "\n",
    "#x = (5,7,3)\n",
    "\n",
    "#x = {4:3,6:2,8:6}\n",
    "\n",
    "\n",
    "\n",
    "print(x/4)"
   ]
  },
  {
   "cell_type": "markdown",
   "metadata": {},
   "source": [
    "**Write a summary of what you found. For which data types is this operation valid? Which aren't?**\n",
    "# data types float and int can be divided\n",
    "# data types list tuple dict and string cannot be divided\n",
    "\n",
    "\n"
   ]
  },
  {
   "cell_type": "code",
   "execution_count": 84,
   "metadata": {},
   "outputs": [
    {
     "name": "stdout",
     "output_type": "stream",
     "text": [
      "0.75\n",
      "1\n"
     ]
    }
   ],
   "source": [
    "''' Floor Division '''\n",
    "# This operation only works with numbers. Some languages, like C, will treat integers differently when they are divided.\n",
    "# The default type of division is 'integer division' (or 'floor division'). Python however, will always perform floating\n",
    "# point division by default, unless the // operator is used. Change the operators to see Python handles division for\n",
    "# integers and floats.\n",
    "\n",
    "\n",
    "x = 3\n",
    "y = 4\n",
    "\n",
    "print(x/y)\n",
    "\n",
    "\n",
    "a = 6\n",
    "b = 4\n",
    "\n",
    "print(a//b)"
   ]
  },
  {
   "cell_type": "markdown",
   "metadata": {},
   "source": [
    "**Write a summary of what you found. For which data types is this operation valid? Which aren't?**\n",
    "# when dividing intigers using \"/\" will leave it as a int while using \"//\" will turn it #into a float \n"
   ]
  },
  {
   "cell_type": "code",
   "execution_count": 85,
   "metadata": {},
   "outputs": [
    {
     "name": "stdout",
     "output_type": "stream",
     "text": [
      "3\n",
      "2\n"
     ]
    }
   ],
   "source": [
    "''' Modulo '''\n",
    "# Again, modulo only works with numbers. This cell uses the same numbers as the previous.\n",
    "# Find the difference between the // and % operators. Is there any similarity between the two?\n",
    "\n",
    "x = 3\n",
    "y = 4\n",
    "\n",
    "print(x%y)\n",
    "\n",
    "\n",
    "a = 6\n",
    "b = 4\n",
    "\n",
    "print(a%b)"
   ]
  },
  {
   "cell_type": "markdown",
   "metadata": {},
   "source": [
    "**Write a summary of what you found. For which data types is this operation valid? Which aren't?**\n"
   ]
  },
  {
   "cell_type": "markdown",
   "metadata": {
    "editable": false
   },
   "source": [
    "# Exercise 6: Assignment and Equality Operators"
   ]
  },
  {
   "cell_type": "markdown",
   "metadata": {},
   "source": [
    "* Python uses two operators which are very similar, but have very different meanings. \n",
    "* These are the '=' and '==' operators, or the assignment and equality operators respectively.\n",
    "\n",
    "*The assignment operator should only be used when setting a variable equal to a value. This must be done from left to right, unlike mathematics. For example, writing 'x = 4' will set the variable equal to four. But writing '4 = x' (right to left assignment) is not valid and will return an error.\n",
    "\n",
    "*The equality operator checks whether two values are the same. The values can be stored in variables, or just be the plain value. For example, you can type 'x == 4' and 'x == y', both of these are valid.\n",
    "\n",
    "**In the cell below, check if you can use right to left comparison of variables, that is, you can write the value first, then the variable.**"
   ]
  },
  {
   "cell_type": "code",
   "execution_count": 87,
   "metadata": {},
   "outputs": [
    {
     "ename": "SyntaxError",
     "evalue": "cannot assign to literal (<ipython-input-87-a4a5a61154ca>, line 1)",
     "traceback": [
      "\u001b[1;36m  File \u001b[1;32m\"<ipython-input-87-a4a5a61154ca>\"\u001b[1;36m, line \u001b[1;32m1\u001b[0m\n\u001b[1;33m    4 = x\u001b[0m\n\u001b[1;37m    ^\u001b[0m\n\u001b[1;31mSyntaxError\u001b[0m\u001b[1;31m:\u001b[0m cannot assign to literal\n"
     ],
     "output_type": "error"
    }
   ],
   "source": [
    "4 = x\n",
    "if ''' equality operation ''':\n",
    "    print(\"Right to left comparison is valid\")\n",
    "else:\n",
    "    print(\"Right to left comparison is invalid\")"
   ]
  },
  {
   "cell_type": "markdown",
   "metadata": {
    "editable": false
   },
   "source": [
    "# Exercise 7: Casting\n"
   ]
  },
  {
   "cell_type": "markdown",
   "metadata": {},
   "source": [
    "* Sometimes when a variable is defined it is of one type, but later in the program the type needs to change, either for an operation to work or to make a comparison etc. \n",
    "* Converting a data type from one to another is called 'casting'.\n",
    "* To convert to a float, integer or string, use the functions float(), int() and str() respectively. \n",
    "* The argument for this function is simply the object you want to cast.\n",
    "\n",
    "**Using the three casting functions listed above, change the data types of the variables in the programs below to remove the type errors.**"
   ]
  },
  {
   "cell_type": "code",
   "execution_count": 91,
   "metadata": {},
   "outputs": [
    {
     "name": "stdout",
     "output_type": "stream",
     "text": [
      "BSKDAM1005\n"
     ]
    }
   ],
   "source": [
    "part_number = 1005\n",
    "part_name = 'BSKDAM'\n",
    "\n",
    "product_code = part_name + str(part_number)\n",
    "\n",
    "print(product_code)"
   ]
  },
  {
   "cell_type": "code",
   "execution_count": null,
   "metadata": {},
   "outputs": [],
   "source": [
    "decimal_number = '45.215523'\n",
    "\n",
    "remainder = float(decimal_number)%1\n",
    "\n",
    "print(remainder)"
   ]
  },
  {
   "cell_type": "code",
   "execution_count": null,
   "metadata": {},
   "outputs": [],
   "source": [
    "user_age = '24'\n",
    "\n",
    "if user_age >= str(11):\n",
    "    print(\"You can make an account\")\n",
    "else:\n",
    "    print(\"You cannot make an account\")"
   ]
  },
  {
   "cell_type": "markdown",
   "metadata": {
    "editable": false
   },
   "source": [
    "# Exercise 8: User Input"
   ]
  },
  {
   "cell_type": "markdown",
   "metadata": {},
   "source": [
    "* Values can be assigned to variables by obtaining input from a user, for example through using a keyboard. \n",
    "* Python uses the function 'input()' where the argument is text to be displayed on screen, e.g \"Enter Value: \". All data stored using the input() command is stored as a string. \n",
    "* In order to use input for calculations, if the user inputs a number, the data must be cast.\n",
    "\n",
    "**Find and fix the errors in the program below. In the remaining cell, write a program which takes in a number from the user, and prints the value of the number squared.**"
   ]
  },
  {
   "cell_type": "code",
   "execution_count": null,
   "metadata": {},
   "outputs": [],
   "source": [
    "num_of_stars = input(\"How many stars would you like? : \") #get number of stars from user\n",
    "star_string = '' #initialise variable star string\n",
    "\n",
    "for x in range(int(num_of_stars)): #for every star\n",
    "    star_string += '*' #add a star to the star string\n",
    "    \n",
    "print(star_string) #output the star string to the user"
   ]
  },
  {
   "cell_type": "markdown",
   "metadata": {
    "editable": false
   },
   "source": [
    "**Write a program which asks the user to enter a number, then prints out the value of the number squared:**"
   ]
  },
  {
   "cell_type": "code",
   "execution_count": 146,
   "metadata": {},
   "outputs": [
    {
     "name": "stdout",
     "output_type": "stream",
     "text": [
      "Enter your number here : -9\n",
      "81.0\n"
     ]
    }
   ],
   "source": [
    "# your program here\n",
    "user_num = input(\"Enter your number here : \")\n",
    "square = ''\n",
    "square = (float(user_num)**2)\n",
    "print(square)\n",
    "\n",
    "\n",
    "\n",
    "\n",
    "\n"
   ]
  },
  {
   "cell_type": "markdown",
   "metadata": {},
   "source": [
    "# Exercise 9: Help Me!\n",
    "\n",
    "Python has a built-in help function help()\n",
    "Jupyter notebooks have a short version of this - ?\n",
    "\n",
    "**execute the following cells to see the different uses then answer the question below **"
   ]
  },
  {
   "cell_type": "code",
   "execution_count": 133,
   "metadata": {},
   "outputs": [
    {
     "name": "stdout",
     "output_type": "stream",
     "text": [
      "Help on built-in function print in module builtins:\n",
      "\n",
      "print(...)\n",
      "    print(value, ..., sep=' ', end='\\n', file=sys.stdout, flush=False)\n",
      "    \n",
      "    Prints the values to a stream, or to sys.stdout by default.\n",
      "    Optional keyword arguments:\n",
      "    file:  a file-like object (stream); defaults to the current sys.stdout.\n",
      "    sep:   string inserted between values, default a space.\n",
      "    end:   string appended after the last value, default a newline.\n",
      "    flush: whether to forcibly flush the stream.\n",
      "\n"
     ]
    },
    {
     "data": {
      "text/plain": [
       "<function len(obj, /)>"
      ]
     },
     "execution_count": 133,
     "metadata": {},
     "output_type": "execute_result"
    }
   ],
   "source": [
    "#use help and ?\n",
    "help(print) #help me with this command\n",
    "len"
   ]
  },
  {
   "cell_type": "code",
   "execution_count": 128,
   "metadata": {},
   "outputs": [],
   "source": [
    "a = [2,4,3,7,8]\n",
    "len(a)\n",
    "a?"
   ]
  },
  {
   "cell_type": "code",
   "execution_count": 120,
   "metadata": {},
   "outputs": [
    {
     "ename": "KeyboardInterrupt",
     "evalue": "",
     "traceback": [
      "\u001b[1;31m---------------------------------------------------------------------------\u001b[0m",
      "\u001b[1;31mKeyboardInterrupt\u001b[0m                         Traceback (most recent call last)",
      "\u001b[1;32m<ipython-input-120-f6c94825f0f2>\u001b[0m in \u001b[0;36m<module>\u001b[1;34m\u001b[0m\n\u001b[0;32m      4\u001b[0m \u001b[1;31m#use an inbuilt module function\u001b[0m\u001b[1;33m\u001b[0m\u001b[1;33m\u001b[0m\u001b[1;33m\u001b[0m\u001b[0m\n\u001b[0;32m      5\u001b[0m \u001b[1;33m\u001b[0m\u001b[0m\n\u001b[1;32m----> 6\u001b[1;33m \u001b[1;32mfrom\u001b[0m \u001b[0mnumpy\u001b[0m \u001b[1;32mimport\u001b[0m \u001b[0mprod\u001b[0m \u001b[1;32mas\u001b[0m \u001b[0mp\u001b[0m\u001b[1;33m\u001b[0m\u001b[1;33m\u001b[0m\u001b[0m\n\u001b[0m\u001b[0;32m      7\u001b[0m \u001b[0manswer_1\u001b[0m \u001b[1;33m=\u001b[0m \u001b[0mp\u001b[0m\u001b[1;33m(\u001b[0m\u001b[0ma\u001b[0m\u001b[1;33m)\u001b[0m\u001b[1;33m\u001b[0m\u001b[1;33m\u001b[0m\u001b[0m\n\u001b[0;32m      8\u001b[0m \u001b[1;33m\u001b[0m\u001b[0m\n",
      "\u001b[1;32mC:\\Conda5\\lib\\site-packages\\numpy\\__init__.py\u001b[0m in \u001b[0;36m<module>\u001b[1;34m\u001b[0m\n\u001b[0;32m    325\u001b[0m \u001b[1;33m\u001b[0m\u001b[0m\n\u001b[0;32m    326\u001b[0m     \u001b[1;32mimport\u001b[0m \u001b[0mmkl\u001b[0m\u001b[1;33m\u001b[0m\u001b[1;33m\u001b[0m\u001b[0m\n\u001b[1;32m--> 327\u001b[1;33m     \u001b[0m__mkl_version__\u001b[0m \u001b[1;33m=\u001b[0m \u001b[1;34m\"{MajorVersion}.{MinorVersion}.{UpdateVersion}\"\u001b[0m\u001b[1;33m.\u001b[0m\u001b[0mformat\u001b[0m\u001b[1;33m(\u001b[0m\u001b[1;33m**\u001b[0m\u001b[0mmkl\u001b[0m\u001b[1;33m.\u001b[0m\u001b[0mget_version\u001b[0m\u001b[1;33m(\u001b[0m\u001b[1;33m)\u001b[0m\u001b[1;33m)\u001b[0m\u001b[1;33m\u001b[0m\u001b[1;33m\u001b[0m\u001b[0m\n\u001b[0m\u001b[0;32m    328\u001b[0m \u001b[1;33m\u001b[0m\u001b[0m\n\u001b[0;32m    329\u001b[0m \u001b[1;33m\u001b[0m\u001b[0m\n",
      "\u001b[1;31mKeyboardInterrupt\u001b[0m: "
     ],
     "output_type": "error"
    }
   ],
   "source": [
    "#use of ? and ??\n",
    "#multiple all elements in the list\n",
    "\n",
    "#use an inbuilt module function\n",
    "\n",
    "from numpy import prod as p\n",
    "answer_1 = p(a)\n",
    "\n",
    "#instead of the above, you could write:\n",
    "#import numpy\n",
    "#answer_1 = numpy.prod(a)\n",
    "#....if you prefer to keep functions explicit in your code\n",
    "\n",
    "\n",
    "\n",
    "#use my own function\n",
    "def p2(l):\n",
    "    '''multiple all elements in a list - this is a docstring which can be displayed in the help'''\n",
    "    r =1\n",
    "    for x in l:\n",
    "        r = r*x\n",
    "    return r\n",
    "\n",
    "answer_2 = p2(a)\n",
    "\n",
    "print(answer_1, answer_2)\n",
    "?answer_2"
   ]
  },
  {
   "cell_type": "markdown",
   "metadata": {},
   "source": [
    "**run each of the following individually by commeting it out, and observe the output.**"
   ]
  },
  {
   "cell_type": "code",
   "execution_count": 136,
   "metadata": {},
   "outputs": [
    {
     "name": "stdout",
     "output_type": "stream",
     "text": [
      "Object `p` not found.\n",
      "Object `p` not found.\n",
      "Object `p2` not found.\n"
     ]
    }
   ],
   "source": [
    "# run each of these individually by commeting it out, and observe the output.\n",
    "\n",
    "#?p\n",
    "#??p\n",
    "#?p2\n",
    "#??p2\n",
    "\n"
   ]
  },
  {
   "cell_type": "markdown",
   "metadata": {},
   "source": [
    "**what is the difference between help(),, ? and ?? **\n",
    "\n",
    "answer: help() will return a help page from python inside the code whilst using question marks, jupyter will give help with a popup at the bottom of screen"
   ]
  },
  {
   "cell_type": "markdown",
   "metadata": {},
   "source": [
    "# End of Lab\n",
    "\n",
    "\n",
    "This is the end of your introduction to Variables, Keywords and Data Types. \n",
    "\n",
    "Please note this is not a complete reference but is designed to introduce you to concepts and common misconceptions of the python language, and hopefully some good practice such as variable naming and exhaustive commenting of your code...\n",
    "\n",
    "Please consult the online reference materials to find out more (Canvas has links).\n",
    "\n",
    "Jupyter notebooks are not just for coding; you can write notes like these in markup language. \n",
    "\n",
    "So note in the next cell what what you learned/found difficult or easy in the space below.\n"
   ]
  },
  {
   "cell_type": "markdown",
   "metadata": {},
   "source": [
    "**please reflect on your learning below**\n",
    "\n",
    "### I rate this lab (out of 5): 5\n",
    "\n",
    "### What I find easy:\n",
    "variables, data types and manipulating certain data types using operators, getting a user input then converting the data type from a string to another data type \n",
    "\n",
    "### What I find difficult:\n",
    "remembering correct syntax  throughout my code \n",
    "### What I should improve:\n",
    "my knowledge of what can and cannot be done e.g i cannot multiply a dict data type "
   ]
  },
  {
   "cell_type": "markdown",
   "metadata": {},
   "source": [
    "# Next steps\n",
    "\n",
    "* **Upload this completed .pynb notebook to canvas**\n",
    "* **Progress to the next lab**\n"
   ]
  },
  {
   "cell_type": "markdown",
   "metadata": {},
   "source": [
    "# Python for Engineers\n",
    "(c) 2018, 2019, 2020 Dr Neil Cooke, School of Engineering, Collaborative Teaching Laboratory, University of Birmingham"
   ]
  },
  {
   "cell_type": "code",
   "execution_count": null,
   "metadata": {},
   "outputs": [],
   "source": []
  }
 ],
 "metadata": {
  "celltoolbar": "Edit Metadata",
  "kernelspec": {
   "display_name": "Python 3",
   "language": "python",
   "name": "python3"
  },
  "language_info": {
   "codemirror_mode": {
    "name": "ipython",
    "version": 3
   },
   "file_extension": ".py",
   "mimetype": "text/x-python",
   "name": "python",
   "nbconvert_exporter": "python",
   "pygments_lexer": "ipython3",
   "version": "3.8.8"
  }
 },
 "nbformat": 4,
 "nbformat_minor": 1
}
